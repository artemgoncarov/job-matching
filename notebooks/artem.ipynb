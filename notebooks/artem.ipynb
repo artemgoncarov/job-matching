{
 "cells": [
  {
   "cell_type": "code",
   "execution_count": 89,
   "id": "47132c46-ce89-484a-ac3c-f891913f24eb",
   "metadata": {},
   "outputs": [],
   "source": [
    "import os\n",
    "import shutil\n",
    "from tqdm import tqdm\n",
    "import pickle\n",
    "import pandas as pd\n",
    "import numpy as np\n",
    "# import cv2\n",
    "import stable_whisper\n",
    "from moviepy.editor import VideoFileClip\n",
    "import csv\n",
    "import torch\n",
    "from sklearn.metrics import mean_squared_error\n",
    "from catboost import CatBoostRegressor, CatBoostClassifier\n",
    "from sklearn.model_selection import train_test_split\n",
    "# from transformers import BertTokenizer, BertForSequenceClassification, Trainer, TrainingArguments\n",
    "from torch.utils.data import DataLoader, Dataset\n",
    "import re\n",
    "import nltk\n",
    "from nltk.corpus import stopwords\n",
    "from nltk.tokenize import word_tokenize, sent_tokenize\n",
    "from collections import Counter\n",
    "from sentence_transformers import SentenceTransformer"
   ]
  },
  {
   "cell_type": "code",
   "execution_count": 5,
   "id": "9730d6d0-63fb-4e65-97bf-b1096f604877",
   "metadata": {},
   "outputs": [
    {
     "name": "stderr",
     "output_type": "stream",
     "text": [
      "[nltk_data] Downloading package stopwords to /home/user1/nltk_data...\n",
      "[nltk_data]   Package stopwords is already up-to-date!\n",
      "[nltk_data] Downloading package punkt to /home/user1/nltk_data...\n",
      "[nltk_data]   Package punkt is already up-to-date!\n",
      "[nltk_data] Downloading package punkt_tab to /home/user1/nltk_data...\n",
      "[nltk_data]   Package punkt_tab is already up-to-date!\n"
     ]
    }
   ],
   "source": [
    "nltk.download(\"stopwords\")\n",
    "nltk.download(\"punkt\")\n",
    "nltk.download('punkt_tab')\n",
    "stop_words = set(stopwords.words(\"english\"))"
   ]
  },
  {
   "cell_type": "code",
   "execution_count": 3,
   "id": "629676b8-25d5-4369-a0fb-d2c20c72b19f",
   "metadata": {},
   "outputs": [],
   "source": [
    "# !sudo apt-get install ffmpeg -y"
   ]
  },
  {
   "cell_type": "markdown",
   "id": "1197218b-c5cb-43a1-82fd-3536a9db6908",
   "metadata": {},
   "source": [
    "# Data Preprocessing"
   ]
  },
  {
   "cell_type": "code",
   "execution_count": 4,
   "id": "db3028bb-6207-46e3-94c4-2216a6a67e4a",
   "metadata": {},
   "outputs": [
    {
     "ename": "FileNotFoundError",
     "evalue": "[Errno 2] No such file or directory: '/home/user1/environments/train_dataset_vprod_encr_train/train/annotation/annotation_training.pkl'",
     "output_type": "error",
     "traceback": [
      "\u001b[0;31m---------------------------------------------------------------------------\u001b[0m",
      "\u001b[0;31mFileNotFoundError\u001b[0m                         Traceback (most recent call last)",
      "Cell \u001b[0;32mIn[4], line 1\u001b[0m\n\u001b[0;32m----> 1\u001b[0m annotation \u001b[38;5;241m=\u001b[39m pickle\u001b[38;5;241m.\u001b[39mload(\u001b[38;5;28;43mopen\u001b[39;49m\u001b[43m(\u001b[49m\u001b[38;5;124;43m'\u001b[39;49m\u001b[38;5;124;43m/home/user1/environments/train_dataset_vprod_encr_train/train/annotation/annotation_training.pkl\u001b[39;49m\u001b[38;5;124;43m'\u001b[39;49m\u001b[43m,\u001b[49m\u001b[43m \u001b[49m\u001b[38;5;124;43m'\u001b[39;49m\u001b[38;5;124;43mrb\u001b[39;49m\u001b[38;5;124;43m'\u001b[39;49m\u001b[43m)\u001b[49m, encoding\u001b[38;5;241m=\u001b[39m\u001b[38;5;124m'\u001b[39m\u001b[38;5;124mlatin1\u001b[39m\u001b[38;5;124m'\u001b[39m)\n",
      "File \u001b[0;32m~/environments/hack/lib/python3.10/site-packages/IPython/core/interactiveshell.py:324\u001b[0m, in \u001b[0;36m_modified_open\u001b[0;34m(file, *args, **kwargs)\u001b[0m\n\u001b[1;32m    317\u001b[0m \u001b[38;5;28;01mif\u001b[39;00m file \u001b[38;5;129;01min\u001b[39;00m {\u001b[38;5;241m0\u001b[39m, \u001b[38;5;241m1\u001b[39m, \u001b[38;5;241m2\u001b[39m}:\n\u001b[1;32m    318\u001b[0m     \u001b[38;5;28;01mraise\u001b[39;00m \u001b[38;5;167;01mValueError\u001b[39;00m(\n\u001b[1;32m    319\u001b[0m         \u001b[38;5;124mf\u001b[39m\u001b[38;5;124m\"\u001b[39m\u001b[38;5;124mIPython won\u001b[39m\u001b[38;5;124m'\u001b[39m\u001b[38;5;124mt let you open fd=\u001b[39m\u001b[38;5;132;01m{\u001b[39;00mfile\u001b[38;5;132;01m}\u001b[39;00m\u001b[38;5;124m by default \u001b[39m\u001b[38;5;124m\"\u001b[39m\n\u001b[1;32m    320\u001b[0m         \u001b[38;5;124m\"\u001b[39m\u001b[38;5;124mas it is likely to crash IPython. If you know what you are doing, \u001b[39m\u001b[38;5;124m\"\u001b[39m\n\u001b[1;32m    321\u001b[0m         \u001b[38;5;124m\"\u001b[39m\u001b[38;5;124myou can use builtins\u001b[39m\u001b[38;5;124m'\u001b[39m\u001b[38;5;124m open.\u001b[39m\u001b[38;5;124m\"\u001b[39m\n\u001b[1;32m    322\u001b[0m     )\n\u001b[0;32m--> 324\u001b[0m \u001b[38;5;28;01mreturn\u001b[39;00m \u001b[43mio_open\u001b[49m\u001b[43m(\u001b[49m\u001b[43mfile\u001b[49m\u001b[43m,\u001b[49m\u001b[43m \u001b[49m\u001b[38;5;241;43m*\u001b[39;49m\u001b[43margs\u001b[49m\u001b[43m,\u001b[49m\u001b[43m \u001b[49m\u001b[38;5;241;43m*\u001b[39;49m\u001b[38;5;241;43m*\u001b[39;49m\u001b[43mkwargs\u001b[49m\u001b[43m)\u001b[49m\n",
      "\u001b[0;31mFileNotFoundError\u001b[0m: [Errno 2] No such file or directory: '/home/user1/environments/train_dataset_vprod_encr_train/train/annotation/annotation_training.pkl'"
     ]
    }
   ],
   "source": [
    "annotation = pickle.load(open('/home/user1/environments/train_dataset_vprod_encr_train/train/annotation/annotation_training.pkl', 'rb'), encoding='latin1')"
   ]
  },
  {
   "cell_type": "code",
   "execution_count": 8,
   "id": "235d9b9c-7e8b-4024-b5db-88228b660e8e",
   "metadata": {},
   "outputs": [],
   "source": [
    "transcription = pickle.load(open('/home/user1/environments/train_dataset_vprod_encr_train/train/transcription/transcription_training.pkl', 'rb'), encoding='latin1')"
   ]
  },
  {
   "cell_type": "code",
   "execution_count": 9,
   "id": "6a869987-b8ab-407c-a78d-7d67fb2c9451",
   "metadata": {},
   "outputs": [
    {
     "data": {
      "text/plain": [
       "dict_keys(['extraversion', 'neuroticism', 'agreeableness', 'conscientiousness', 'interview', 'openness'])"
      ]
     },
     "execution_count": 9,
     "metadata": {},
     "output_type": "execute_result"
    }
   ],
   "source": [
    "annotation.keys()"
   ]
  },
  {
   "cell_type": "code",
   "execution_count": 10,
   "id": "679391f3-b955-4b82-9a82-4832039a8292",
   "metadata": {},
   "outputs": [],
   "source": [
    "extraversion = []\n",
    "neuroticism = []\n",
    "agreeableness = []\n",
    "conscientiousness = []\n",
    "interview = []\n",
    "openness = []\n",
    "transcription_df = []\n",
    "\n",
    "for video in annotation['extraversion']:\n",
    "    extraversion.append({\n",
    "        \"video\": video,\n",
    "        \"OCEAN\": annotation['extraversion'][video]\n",
    "    })\n",
    "\n",
    "for video in annotation['neuroticism']:\n",
    "    neuroticism.append({\n",
    "        \"video\": video,\n",
    "        \"OCEAN\": annotation['neuroticism'][video]\n",
    "    })\n",
    "\n",
    "for video in annotation['agreeableness']:\n",
    "    agreeableness.append({\n",
    "        \"video\": video,\n",
    "        \"OCEAN\": annotation['agreeableness'][video]\n",
    "    })\n",
    "\n",
    "for video in annotation['conscientiousness']:\n",
    "    conscientiousness.append({\n",
    "        \"video\": video,\n",
    "        \"OCEAN\": annotation['conscientiousness'][video]\n",
    "    })\n",
    "\n",
    "for video in annotation['interview']:\n",
    "    interview.append({\n",
    "        \"video\": video,\n",
    "        \"OCEAN\": annotation['interview'][video]\n",
    "    })\n",
    "\n",
    "for video in annotation['openness']:\n",
    "    openness.append({\n",
    "        \"video\": video,\n",
    "        \"OCEAN\": annotation['openness'][video]\n",
    "    })\n",
    "\n",
    "for video in transcription:\n",
    "    transcription_df.append({\n",
    "        \"video\": video,\n",
    "        \"text\": transcription[video]\n",
    "    })\n",
    "\n",
    "extraversion = pd.DataFrame(extraversion)\n",
    "neuroticism = pd.DataFrame(neuroticism)\n",
    "agreeableness = pd.DataFrame(agreeableness)\n",
    "conscientiousness = pd.DataFrame(conscientiousness)\n",
    "interview = pd.DataFrame(interview)\n",
    "openness = pd.DataFrame(openness)\n",
    "transcription = pd.DataFrame(transcription_df)"
   ]
  },
  {
   "cell_type": "code",
   "execution_count": 11,
   "id": "652f92bd-4fe0-4ceb-abbd-862b11167bee",
   "metadata": {},
   "outputs": [
    {
     "name": "stderr",
     "output_type": "stream",
     "text": [
      "100%|████████████████████████████████████████████████| 6000/6000 [00:01<00:00, 3689.95it/s]\n"
     ]
    }
   ],
   "source": [
    "data = []\n",
    "\n",
    "for i in tqdm(range(len(agreeableness))):\n",
    "    a = extraversion.iloc[i].OCEAN\n",
    "    b = neuroticism.iloc[i].OCEAN\n",
    "    c = agreeableness.iloc[i].OCEAN\n",
    "    d = interview.iloc[i].OCEAN\n",
    "    e = openness.iloc[i].OCEAN\n",
    "    f = conscientiousness.iloc[i].OCEAN\n",
    "    g = transcription.iloc[i]\n",
    "\n",
    "    data.append({\n",
    "        \"video\": extraversion.iloc[i].video,\n",
    "        \"text\": g.text,\n",
    "        \"extraversion\": a,\n",
    "        \"neuroticism\": b,\n",
    "        \"agreeableness\": c,\n",
    "        \"interview\": d,\n",
    "        \"openness\": e,\n",
    "        \"conscientiousness\": f\n",
    "    })\n",
    "\n",
    "data = pd.DataFrame(data)"
   ]
  },
  {
   "cell_type": "code",
   "execution_count": 15,
   "id": "18eff0fa-f184-47bc-9366-8a1f82aa9fcf",
   "metadata": {},
   "outputs": [],
   "source": [
    "data.to_csv('data.csv', index=False)"
   ]
  },
  {
   "cell_type": "code",
   "execution_count": null,
   "id": "7350d624-ad27-4a11-af1b-52f2cf86d900",
   "metadata": {},
   "outputs": [
    {
     "name": "stderr",
     "output_type": "stream",
     "text": [
      " 13%|███████                                               | 10/76 [00:13<01:19,  1.20s/it]"
     ]
    },
    {
     "name": "stderr",
     "output_type": "stream",
     "text": [
      " 16%|████████▌                                             | 12/76 [00:16<01:19,  1.24s/it]"
     ]
    }
   ],
   "source": [
    "if not os.path.exists('/home/user1/environments/train_dataset_vprod_encr_train/train/data/videos'):\n",
    "    os.mkdir('/home/user1/environments/train_dataset_vprod_encr_train/train/data/videos')\n",
    "\n",
    "for folder in tqdm(os.listdir('/home/user1/environments/train_dataset_vprod_encr_train/train/data')):\n",
    "    for video in os.listdir('/home/user1/environments/train_dataset_vprod_encr_train/train/data/' + folder):\n",
    "        try:\n",
    "            shutil.copy2('/home/user1/environments/train_dataset_vprod_encr_train/train/data/' + folder + '/' + video, '/home/user1/environments/train_dataset_vprod_encr_train/train/data/videos/' + video)\n",
    "        except:\n",
    "            pass"
   ]
  },
  {
   "cell_type": "markdown",
   "id": "b8c6e46f",
   "metadata": {},
   "source": [
    "# Valid preprocessing"
   ]
  },
  {
   "cell_type": "code",
   "execution_count": 16,
   "id": "3a642ea4",
   "metadata": {},
   "outputs": [],
   "source": [
    "annotation = pickle.load(open('/home/user1/environments/train_dataset_vprod_encr_train/valid/annotation/annotation_validation.pkl', 'rb'), encoding='latin1')"
   ]
  },
  {
   "cell_type": "code",
   "execution_count": 17,
   "id": "255ffd39",
   "metadata": {},
   "outputs": [],
   "source": [
    "transcription = pickle.load(open('/home/user1/environments/train_dataset_vprod_encr_train/valid/transcription/transcription_validation.pkl', 'rb'), encoding='latin1')"
   ]
  },
  {
   "cell_type": "code",
   "execution_count": 18,
   "id": "9799d6af",
   "metadata": {},
   "outputs": [
    {
     "data": {
      "text/plain": [
       "dict_keys(['extraversion', 'neuroticism', 'agreeableness', 'conscientiousness', 'interview', 'openness'])"
      ]
     },
     "execution_count": 18,
     "metadata": {},
     "output_type": "execute_result"
    }
   ],
   "source": [
    "annotation.keys()"
   ]
  },
  {
   "cell_type": "code",
   "execution_count": 19,
   "id": "f99c3363",
   "metadata": {},
   "outputs": [],
   "source": [
    "extraversion = []\n",
    "neuroticism = []\n",
    "agreeableness = []\n",
    "conscientiousness = []\n",
    "interview = []\n",
    "openness = []\n",
    "transcription_df = []\n",
    "\n",
    "for video in annotation['extraversion']:\n",
    "    extraversion.append({\n",
    "        \"video\": video,\n",
    "        \"OCEAN\": annotation['extraversion'][video]\n",
    "    })\n",
    "\n",
    "for video in annotation['neuroticism']:\n",
    "    neuroticism.append({\n",
    "        \"video\": video,\n",
    "        \"OCEAN\": annotation['neuroticism'][video]\n",
    "    })\n",
    "\n",
    "for video in annotation['agreeableness']:\n",
    "    agreeableness.append({\n",
    "        \"video\": video,\n",
    "        \"OCEAN\": annotation['agreeableness'][video]\n",
    "    })\n",
    "\n",
    "for video in annotation['conscientiousness']:\n",
    "    conscientiousness.append({\n",
    "        \"video\": video,\n",
    "        \"OCEAN\": annotation['conscientiousness'][video]\n",
    "    })\n",
    "\n",
    "for video in annotation['interview']:\n",
    "    interview.append({\n",
    "        \"video\": video,\n",
    "        \"OCEAN\": annotation['interview'][video]\n",
    "    })\n",
    "\n",
    "for video in annotation['openness']:\n",
    "    openness.append({\n",
    "        \"video\": video,\n",
    "        \"OCEAN\": annotation['openness'][video]\n",
    "    })\n",
    "\n",
    "for video in transcription:\n",
    "    transcription_df.append({\n",
    "        \"video\": video,\n",
    "        \"text\": transcription[video]\n",
    "    })\n",
    "\n",
    "extraversion = pd.DataFrame(extraversion)\n",
    "neuroticism = pd.DataFrame(neuroticism)\n",
    "agreeableness = pd.DataFrame(agreeableness)\n",
    "conscientiousness = pd.DataFrame(conscientiousness)\n",
    "interview = pd.DataFrame(interview)\n",
    "openness = pd.DataFrame(openness)\n",
    "transcription = pd.DataFrame(transcription_df)"
   ]
  },
  {
   "cell_type": "code",
   "execution_count": 20,
   "id": "aedd5615",
   "metadata": {},
   "outputs": [
    {
     "name": "stderr",
     "output_type": "stream",
     "text": [
      "100%|████████████████████████████████████████████████| 2000/2000 [00:00<00:00, 3666.12it/s]\n"
     ]
    }
   ],
   "source": [
    "data_valid = []\n",
    "\n",
    "for i in tqdm(range(len(agreeableness))):\n",
    "    a = extraversion.iloc[i].OCEAN\n",
    "    b = neuroticism.iloc[i].OCEAN\n",
    "    c = agreeableness.iloc[i].OCEAN\n",
    "    d = interview.iloc[i].OCEAN\n",
    "    e = openness.iloc[i].OCEAN\n",
    "    f = conscientiousness.iloc[i].OCEAN\n",
    "    g = transcription.iloc[i]\n",
    "\n",
    "    data_valid.append({\n",
    "        \"video\": extraversion.iloc[i].video,\n",
    "        \"text\": g.text,\n",
    "        \"extraversion\": a,\n",
    "        \"neuroticism\": b,\n",
    "        \"agreeableness\": c,\n",
    "        \"interview\": d,\n",
    "        \"openness\": e,\n",
    "        \"conscientiousness\": f\n",
    "    })\n",
    "\n",
    "data_valid = pd.DataFrame(data_valid)"
   ]
  },
  {
   "cell_type": "code",
   "execution_count": 21,
   "id": "f023ed1a",
   "metadata": {},
   "outputs": [],
   "source": [
    "data_valid.to_csv('data_valid.csv', index=False)"
   ]
  },
  {
   "cell_type": "code",
   "execution_count": 42,
   "id": "47b34cb8",
   "metadata": {},
   "outputs": [
    {
     "name": "stderr",
     "output_type": "stream",
     "text": [
      "100%|██████████████████████████████████████████████████████| 26/26 [00:35<00:00,  1.35s/it]\n"
     ]
    }
   ],
   "source": [
    "if not os.path.exists('/home/user1/environments/train_dataset_vprod_encr_train/valid/data_valid/videos'):\n",
    "    os.mkdir('/home/user1/environments/train_dataset_vprod_encr_train/valid/data_valid/videos')\n",
    "\n",
    "for folder in tqdm(os.listdir('/home/user1/environments/train_dataset_vprod_encr_train/valid/data_valid')):\n",
    "    for video in os.listdir('/home/user1/environments/train_dataset_vprod_encr_train/valid/data_valid/' + folder):\n",
    "        try:\n",
    "            shutil.copy2('/home/user1/environments/train_dataset_vprod_encr_train/valid/data_valid/' + folder + '/' + video, '/home/user1/environments/train_dataset_vprod_encr_train/valid/data_valid/videos/' + video)\n",
    "        except:\n",
    "            pass"
   ]
  },
  {
   "cell_type": "code",
   "execution_count": 22,
   "id": "d7aff583",
   "metadata": {},
   "outputs": [
    {
     "name": "stderr",
     "output_type": "stream",
     "text": [
      "100%|██████████████████████████████████████████████████████| 26/26 [00:34<00:00,  1.32s/it]\n"
     ]
    }
   ],
   "source": [
    "if not os.path.exists('/home/user1/environments/train_dataset_vprod_encr_train/videos'):\n",
    "    os.mkdir('/home/user1/environments/train_dataset_vprod_encr_train/videos')\n",
    "\n",
    "for folder in tqdm(os.listdir('/home/user1/environments/train_dataset_vprod_encr_train/valid/data_valid')):\n",
    "    for video in os.listdir('/home/user1/environments/train_dataset_vprod_encr_train/valid/data_valid/' + folder):\n",
    "        try:\n",
    "            shutil.copy2('/home/user1/environments/train_dataset_vprod_encr_train/valid/data_valid/' + folder + '/' + video, '/home/user1/environments/train_dataset_vprod_encr_train/videos/' + video)\n",
    "        except:\n",
    "            pass"
   ]
  },
  {
   "cell_type": "code",
   "execution_count": 23,
   "id": "e8008bd3",
   "metadata": {},
   "outputs": [
    {
     "name": "stderr",
     "output_type": "stream",
     "text": [
      "100%|██████████████████████████████████████████████████████| 76/76 [00:46<00:00,  1.62it/s]\n"
     ]
    }
   ],
   "source": [
    "for folder in tqdm(os.listdir('/home/user1/environments/train_dataset_vprod_encr_train/train/data')):\n",
    "    for video in os.listdir('/home/user1/environments/train_dataset_vprod_encr_train/train/data/' + folder):\n",
    "        try:\n",
    "            shutil.copy2('/home/user1/environments/train_dataset_vprod_encr_train/train/data/' + folder + '/' + video, '/home/user1/environments/train_dataset_vprod_encr_train/videos/' + video)\n",
    "        except:\n",
    "            pass"
   ]
  },
  {
   "cell_type": "code",
   "execution_count": 28,
   "id": "3345308e",
   "metadata": {},
   "outputs": [
    {
     "name": "stderr",
     "output_type": "stream",
     "text": [
      "100%|███████████████████████████████████████████████| 6000/6000 [00:00<00:00, 44994.41it/s]\n"
     ]
    }
   ],
   "source": [
    "for i in tqdm(os.listdir('/home/user1/environments/train_dataset_vprod_encr_train/train/data/videos/')):\n",
    "    shutil.move('/home/user1/environments/train_dataset_vprod_encr_train/train/data/videos/' + i, '/home/user1/environments/train_dataset_vprod_encr_train/videos/' + i)"
   ]
  },
  {
   "cell_type": "code",
   "execution_count": 29,
   "id": "b519f2dd",
   "metadata": {},
   "outputs": [
    {
     "name": "stderr",
     "output_type": "stream",
     "text": [
      "100%|███████████████████████████████████████████████| 1560/1560 [00:00<00:00, 50544.71it/s]\n"
     ]
    }
   ],
   "source": [
    "for i in tqdm(os.listdir('/home/user1/environments/train_dataset_vprod_encr_train/valid/data_valid/videos/')):\n",
    "    shutil.move('/home/user1/environments/train_dataset_vprod_encr_train/valid/data_valid/videos/' + i, '/home/user1/environments/train_dataset_vprod_encr_train/videos/' + i)"
   ]
  },
  {
   "cell_type": "code",
   "execution_count": 30,
   "id": "eb7de952",
   "metadata": {},
   "outputs": [
    {
     "data": {
      "text/plain": [
       "7560"
      ]
     },
     "execution_count": 30,
     "metadata": {},
     "output_type": "execute_result"
    }
   ],
   "source": [
    "len(os.listdir('/home/user1/environments/train_dataset_vprod_encr_train/videos/'))"
   ]
  },
  {
   "cell_type": "markdown",
   "id": "1fa1c6d2-7eb9-4293-9402-db72fbdbd1a0",
   "metadata": {},
   "source": [
    "# Data Analys"
   ]
  },
  {
   "cell_type": "code",
   "execution_count": 9,
   "id": "5ad4f605-14df-4fd2-b3a5-d3cb92bd006a",
   "metadata": {},
   "outputs": [],
   "source": [
    "video_path = '/home/user1/environments/train_dataset_vprod_encr_train/train/data/videos/'"
   ]
  },
  {
   "cell_type": "code",
   "execution_count": 10,
   "id": "fd2481e6-d046-4014-a533-514baffd6e92",
   "metadata": {},
   "outputs": [],
   "source": [
    "device = 'cuda' if torch.cuda.is_available() else 'cpu'"
   ]
  },
  {
   "cell_type": "code",
   "execution_count": 11,
   "id": "a2ed94e3-bdf1-48bd-b1a2-f9d8df489484",
   "metadata": {},
   "outputs": [],
   "source": [
    "data['word_counts'] = data.text.apply(lambda x: len(x))"
   ]
  },
  {
   "cell_type": "code",
   "execution_count": 12,
   "id": "16917018-2d17-4be7-87f0-70d3349ae084",
   "metadata": {},
   "outputs": [],
   "source": [
    "data.to_csv('data.csv', index=False)"
   ]
  },
  {
   "cell_type": "code",
   "execution_count": 13,
   "id": "1f467623-8c8e-47d6-9122-52d0c1977555",
   "metadata": {},
   "outputs": [
    {
     "data": {
      "text/html": [
       "<div>\n",
       "<style scoped>\n",
       "    .dataframe tbody tr th:only-of-type {\n",
       "        vertical-align: middle;\n",
       "    }\n",
       "\n",
       "    .dataframe tbody tr th {\n",
       "        vertical-align: top;\n",
       "    }\n",
       "\n",
       "    .dataframe thead th {\n",
       "        text-align: right;\n",
       "    }\n",
       "</style>\n",
       "<table border=\"1\" class=\"dataframe\">\n",
       "  <thead>\n",
       "    <tr style=\"text-align: right;\">\n",
       "      <th></th>\n",
       "      <th>extraversion</th>\n",
       "      <th>neuroticism</th>\n",
       "      <th>agreeableness</th>\n",
       "      <th>interview</th>\n",
       "      <th>openness</th>\n",
       "      <th>conscientiousness</th>\n",
       "    </tr>\n",
       "  </thead>\n",
       "  <tbody>\n",
       "    <tr>\n",
       "      <th>extraversion</th>\n",
       "      <td>1.000000</td>\n",
       "      <td>0.796407</td>\n",
       "      <td>0.710505</td>\n",
       "      <td>0.818464</td>\n",
       "      <td>0.774249</td>\n",
       "      <td>0.588592</td>\n",
       "    </tr>\n",
       "    <tr>\n",
       "      <th>neuroticism</th>\n",
       "      <td>0.796407</td>\n",
       "      <td>1.000000</td>\n",
       "      <td>0.732660</td>\n",
       "      <td>0.879114</td>\n",
       "      <td>0.774219</td>\n",
       "      <td>0.719671</td>\n",
       "    </tr>\n",
       "    <tr>\n",
       "      <th>agreeableness</th>\n",
       "      <td>0.710505</td>\n",
       "      <td>0.732660</td>\n",
       "      <td>1.000000</td>\n",
       "      <td>0.828069</td>\n",
       "      <td>0.649029</td>\n",
       "      <td>0.657955</td>\n",
       "    </tr>\n",
       "    <tr>\n",
       "      <th>interview</th>\n",
       "      <td>0.818464</td>\n",
       "      <td>0.879114</td>\n",
       "      <td>0.828069</td>\n",
       "      <td>1.000000</td>\n",
       "      <td>0.772283</td>\n",
       "      <td>0.832406</td>\n",
       "    </tr>\n",
       "    <tr>\n",
       "      <th>openness</th>\n",
       "      <td>0.774249</td>\n",
       "      <td>0.774219</td>\n",
       "      <td>0.649029</td>\n",
       "      <td>0.772283</td>\n",
       "      <td>1.000000</td>\n",
       "      <td>0.582695</td>\n",
       "    </tr>\n",
       "    <tr>\n",
       "      <th>conscientiousness</th>\n",
       "      <td>0.588592</td>\n",
       "      <td>0.719671</td>\n",
       "      <td>0.657955</td>\n",
       "      <td>0.832406</td>\n",
       "      <td>0.582695</td>\n",
       "      <td>1.000000</td>\n",
       "    </tr>\n",
       "  </tbody>\n",
       "</table>\n",
       "</div>"
      ],
      "text/plain": [
       "                   extraversion  neuroticism  agreeableness  interview  \\\n",
       "extraversion           1.000000     0.796407       0.710505   0.818464   \n",
       "neuroticism            0.796407     1.000000       0.732660   0.879114   \n",
       "agreeableness          0.710505     0.732660       1.000000   0.828069   \n",
       "interview              0.818464     0.879114       0.828069   1.000000   \n",
       "openness               0.774249     0.774219       0.649029   0.772283   \n",
       "conscientiousness      0.588592     0.719671       0.657955   0.832406   \n",
       "\n",
       "                   openness  conscientiousness  \n",
       "extraversion       0.774249           0.588592  \n",
       "neuroticism        0.774219           0.719671  \n",
       "agreeableness      0.649029           0.657955  \n",
       "interview          0.772283           0.832406  \n",
       "openness           1.000000           0.582695  \n",
       "conscientiousness  0.582695           1.000000  "
      ]
     },
     "execution_count": 13,
     "metadata": {},
     "output_type": "execute_result"
    }
   ],
   "source": [
    "data[['extraversion', 'neuroticism', 'agreeableness', 'interview', 'openness', 'conscientiousness']].corr()"
   ]
  },
  {
   "cell_type": "code",
   "execution_count": 14,
   "id": "e68c565c-e427-4b4c-af8f-4f2924572137",
   "metadata": {},
   "outputs": [
    {
     "name": "stderr",
     "output_type": "stream",
     "text": [
      "6000it [00:00, 14349.59it/s]\n"
     ]
    }
   ],
   "source": [
    "a = []\n",
    "\n",
    "for i, row in tqdm(data.iterrows()):\n",
    "    a.append((row.extraversion + row.neuroticism + row.agreeableness + row.openness + row.conscientiousness) / 5)"
   ]
  },
  {
   "cell_type": "code",
   "execution_count": 15,
   "id": "0af635fb-4bba-4c58-aa16-4835b9d465c4",
   "metadata": {},
   "outputs": [],
   "source": [
    "data['mean'] = a"
   ]
  },
  {
   "cell_type": "code",
   "execution_count": 16,
   "id": "341bc472-cdf8-4e35-9b82-62bdb633c053",
   "metadata": {},
   "outputs": [
    {
     "data": {
      "text/html": [
       "<div>\n",
       "<style scoped>\n",
       "    .dataframe tbody tr th:only-of-type {\n",
       "        vertical-align: middle;\n",
       "    }\n",
       "\n",
       "    .dataframe tbody tr th {\n",
       "        vertical-align: top;\n",
       "    }\n",
       "\n",
       "    .dataframe thead th {\n",
       "        text-align: right;\n",
       "    }\n",
       "</style>\n",
       "<table border=\"1\" class=\"dataframe\">\n",
       "  <thead>\n",
       "    <tr style=\"text-align: right;\">\n",
       "      <th></th>\n",
       "      <th>interview</th>\n",
       "      <th>mean</th>\n",
       "    </tr>\n",
       "  </thead>\n",
       "  <tbody>\n",
       "    <tr>\n",
       "      <th>interview</th>\n",
       "      <td>1.000000</td>\n",
       "      <td>0.948591</td>\n",
       "    </tr>\n",
       "    <tr>\n",
       "      <th>mean</th>\n",
       "      <td>0.948591</td>\n",
       "      <td>1.000000</td>\n",
       "    </tr>\n",
       "  </tbody>\n",
       "</table>\n",
       "</div>"
      ],
      "text/plain": [
       "           interview      mean\n",
       "interview   1.000000  0.948591\n",
       "mean        0.948591  1.000000"
      ]
     },
     "execution_count": 16,
     "metadata": {},
     "output_type": "execute_result"
    }
   ],
   "source": [
    "data[['interview', 'mean']].corr()"
   ]
  },
  {
   "cell_type": "code",
   "execution_count": 17,
   "id": "2de9ef5d-8a1c-4007-a92f-7edace352e4e",
   "metadata": {},
   "outputs": [
    {
     "data": {
      "text/plain": [
       "0.054275185794705104"
      ]
     },
     "execution_count": 17,
     "metadata": {},
     "output_type": "execute_result"
    }
   ],
   "source": [
    "root_mean_squared_error(data.interview, data['mean'])"
   ]
  },
  {
   "cell_type": "code",
   "execution_count": 18,
   "id": "35c9acd6-3f25-43e1-8f5f-34198dd1214e",
   "metadata": {},
   "outputs": [],
   "source": [
    "X = data[['extraversion', 'neuroticism', 'agreeableness', 'openness', 'conscientiousness']]\n",
    "y = data['interview']"
   ]
  },
  {
   "cell_type": "code",
   "execution_count": 19,
   "id": "896cabc3-d273-4124-9538-b1674df267ea",
   "metadata": {},
   "outputs": [],
   "source": [
    "X_train, X_test, y_train, y_test = train_test_split(X, y, test_size=0.2, shuffle=True)"
   ]
  },
  {
   "cell_type": "code",
   "execution_count": 20,
   "id": "a083a003-48a2-45b0-98b0-40e5a01a375d",
   "metadata": {},
   "outputs": [],
   "source": [
    "model = CatBoostRegressor(1000, verbose=False)\n",
    "model.fit(X_train, y_train);"
   ]
  },
  {
   "cell_type": "code",
   "execution_count": 21,
   "id": "a7517609-8ff2-4165-a9c4-8ef03d2a4663",
   "metadata": {},
   "outputs": [
    {
     "data": {
      "text/plain": [
       "0.04356567549003082"
      ]
     },
     "execution_count": 21,
     "metadata": {},
     "output_type": "execute_result"
    }
   ],
   "source": [
    "root_mean_squared_error(model.predict(X_test), y_test)"
   ]
  },
  {
   "cell_type": "code",
   "execution_count": 12,
   "id": "b59c30e9-8d32-4412-9bbc-a8eabfd1e989",
   "metadata": {},
   "outputs": [
    {
     "data": {
      "text/html": [
       "<div>\n",
       "<style scoped>\n",
       "    .dataframe tbody tr th:only-of-type {\n",
       "        vertical-align: middle;\n",
       "    }\n",
       "\n",
       "    .dataframe tbody tr th {\n",
       "        vertical-align: top;\n",
       "    }\n",
       "\n",
       "    .dataframe thead th {\n",
       "        text-align: right;\n",
       "    }\n",
       "</style>\n",
       "<table border=\"1\" class=\"dataframe\">\n",
       "  <thead>\n",
       "    <tr style=\"text-align: right;\">\n",
       "      <th></th>\n",
       "      <th>video</th>\n",
       "      <th>text</th>\n",
       "      <th>extraversion</th>\n",
       "      <th>neuroticism</th>\n",
       "      <th>agreeableness</th>\n",
       "      <th>interview</th>\n",
       "      <th>openness</th>\n",
       "      <th>conscientiousness</th>\n",
       "    </tr>\n",
       "  </thead>\n",
       "  <tbody>\n",
       "    <tr>\n",
       "      <th>0</th>\n",
       "      <td>J4GQm9j0JZ0.003.mp4</td>\n",
       "      <td>He's cutting it and then turn around and see t...</td>\n",
       "      <td>0.523364</td>\n",
       "      <td>0.552083</td>\n",
       "      <td>0.626374</td>\n",
       "      <td>0.504673</td>\n",
       "      <td>0.488889</td>\n",
       "      <td>0.601942</td>\n",
       "    </tr>\n",
       "    <tr>\n",
       "      <th>1</th>\n",
       "      <td>zEyRyTnIw5I.005.mp4</td>\n",
       "      <td>Responsibility to house the organ I had been g...</td>\n",
       "      <td>0.345794</td>\n",
       "      <td>0.375000</td>\n",
       "      <td>0.472527</td>\n",
       "      <td>0.457944</td>\n",
       "      <td>0.366667</td>\n",
       "      <td>0.582524</td>\n",
       "    </tr>\n",
       "    <tr>\n",
       "      <th>2</th>\n",
       "      <td>nskJh7v6v1U.004.mp4</td>\n",
       "      <td>I actually got quite a few sets of black pens ...</td>\n",
       "      <td>0.252336</td>\n",
       "      <td>0.291667</td>\n",
       "      <td>0.406593</td>\n",
       "      <td>0.373832</td>\n",
       "      <td>0.511111</td>\n",
       "      <td>0.485437</td>\n",
       "    </tr>\n",
       "    <tr>\n",
       "      <th>3</th>\n",
       "      <td>6wHQsN5g2RM.000.mp4</td>\n",
       "      <td>I ate a lot. I'd like a lot of foods. I rememb...</td>\n",
       "      <td>0.457944</td>\n",
       "      <td>0.489583</td>\n",
       "      <td>0.505495</td>\n",
       "      <td>0.457944</td>\n",
       "      <td>0.377778</td>\n",
       "      <td>0.398058</td>\n",
       "    </tr>\n",
       "    <tr>\n",
       "      <th>4</th>\n",
       "      <td>dQOeQYWIgm8.000.mp4</td>\n",
       "      <td>Now I'll ask you guys to leave a question in t...</td>\n",
       "      <td>0.607477</td>\n",
       "      <td>0.489583</td>\n",
       "      <td>0.406593</td>\n",
       "      <td>0.570093</td>\n",
       "      <td>0.622222</td>\n",
       "      <td>0.621359</td>\n",
       "    </tr>\n",
       "    <tr>\n",
       "      <th>...</th>\n",
       "      <td>...</td>\n",
       "      <td>...</td>\n",
       "      <td>...</td>\n",
       "      <td>...</td>\n",
       "      <td>...</td>\n",
       "      <td>...</td>\n",
       "      <td>...</td>\n",
       "      <td>...</td>\n",
       "    </tr>\n",
       "    <tr>\n",
       "      <th>5995</th>\n",
       "      <td>Eh7WRYXVh9M.000.mp4</td>\n",
       "      <td>I got to see a lot, got to experience a lot. Y...</td>\n",
       "      <td>0.523364</td>\n",
       "      <td>0.479167</td>\n",
       "      <td>0.626374</td>\n",
       "      <td>0.588785</td>\n",
       "      <td>0.544444</td>\n",
       "      <td>0.621359</td>\n",
       "    </tr>\n",
       "    <tr>\n",
       "      <th>5996</th>\n",
       "      <td>2q8orkMs2Jg.003.mp4</td>\n",
       "      <td>Really, really love my job, love the people I ...</td>\n",
       "      <td>0.728972</td>\n",
       "      <td>0.760417</td>\n",
       "      <td>0.582418</td>\n",
       "      <td>0.616822</td>\n",
       "      <td>0.822222</td>\n",
       "      <td>0.524272</td>\n",
       "    </tr>\n",
       "    <tr>\n",
       "      <th>5997</th>\n",
       "      <td>F1lAPYh4t3U.000.mp4</td>\n",
       "      <td>I have a nine-to-five. I said this in my last ...</td>\n",
       "      <td>0.700935</td>\n",
       "      <td>0.770833</td>\n",
       "      <td>0.747253</td>\n",
       "      <td>0.691589</td>\n",
       "      <td>0.788889</td>\n",
       "      <td>0.699029</td>\n",
       "    </tr>\n",
       "    <tr>\n",
       "      <th>5998</th>\n",
       "      <td>cxJ0u6r0-pU.001.mp4</td>\n",
       "      <td>You want to be working with and who you want t...</td>\n",
       "      <td>0.317757</td>\n",
       "      <td>0.531250</td>\n",
       "      <td>0.582418</td>\n",
       "      <td>0.616822</td>\n",
       "      <td>0.588889</td>\n",
       "      <td>0.679612</td>\n",
       "    </tr>\n",
       "    <tr>\n",
       "      <th>5999</th>\n",
       "      <td>hfUH9Am-Izs.000.mp4</td>\n",
       "      <td>No, but, it's really hard to explain. It reall...</td>\n",
       "      <td>0.401869</td>\n",
       "      <td>0.500000</td>\n",
       "      <td>0.461538</td>\n",
       "      <td>0.429907</td>\n",
       "      <td>0.588889</td>\n",
       "      <td>0.543689</td>\n",
       "    </tr>\n",
       "  </tbody>\n",
       "</table>\n",
       "<p>6000 rows × 8 columns</p>\n",
       "</div>"
      ],
      "text/plain": [
       "                    video                                               text  \\\n",
       "0     J4GQm9j0JZ0.003.mp4  He's cutting it and then turn around and see t...   \n",
       "1     zEyRyTnIw5I.005.mp4  Responsibility to house the organ I had been g...   \n",
       "2     nskJh7v6v1U.004.mp4  I actually got quite a few sets of black pens ...   \n",
       "3     6wHQsN5g2RM.000.mp4  I ate a lot. I'd like a lot of foods. I rememb...   \n",
       "4     dQOeQYWIgm8.000.mp4  Now I'll ask you guys to leave a question in t...   \n",
       "...                   ...                                                ...   \n",
       "5995  Eh7WRYXVh9M.000.mp4  I got to see a lot, got to experience a lot. Y...   \n",
       "5996  2q8orkMs2Jg.003.mp4  Really, really love my job, love the people I ...   \n",
       "5997  F1lAPYh4t3U.000.mp4  I have a nine-to-five. I said this in my last ...   \n",
       "5998  cxJ0u6r0-pU.001.mp4  You want to be working with and who you want t...   \n",
       "5999  hfUH9Am-Izs.000.mp4  No, but, it's really hard to explain. It reall...   \n",
       "\n",
       "      extraversion  neuroticism  agreeableness  interview  openness  \\\n",
       "0         0.523364     0.552083       0.626374   0.504673  0.488889   \n",
       "1         0.345794     0.375000       0.472527   0.457944  0.366667   \n",
       "2         0.252336     0.291667       0.406593   0.373832  0.511111   \n",
       "3         0.457944     0.489583       0.505495   0.457944  0.377778   \n",
       "4         0.607477     0.489583       0.406593   0.570093  0.622222   \n",
       "...            ...          ...            ...        ...       ...   \n",
       "5995      0.523364     0.479167       0.626374   0.588785  0.544444   \n",
       "5996      0.728972     0.760417       0.582418   0.616822  0.822222   \n",
       "5997      0.700935     0.770833       0.747253   0.691589  0.788889   \n",
       "5998      0.317757     0.531250       0.582418   0.616822  0.588889   \n",
       "5999      0.401869     0.500000       0.461538   0.429907  0.588889   \n",
       "\n",
       "      conscientiousness  \n",
       "0              0.601942  \n",
       "1              0.582524  \n",
       "2              0.485437  \n",
       "3              0.398058  \n",
       "4              0.621359  \n",
       "...                 ...  \n",
       "5995           0.621359  \n",
       "5996           0.524272  \n",
       "5997           0.699029  \n",
       "5998           0.679612  \n",
       "5999           0.543689  \n",
       "\n",
       "[6000 rows x 8 columns]"
      ]
     },
     "execution_count": 12,
     "metadata": {},
     "output_type": "execute_result"
    }
   ],
   "source": [
    "data = pd.read_csv('environments/guivans_folder/data-2 (1).csv')\n",
    "data"
   ]
  },
  {
   "cell_type": "code",
   "execution_count": 49,
   "id": "495153fe-6bcb-4603-a6da-aa21225f04ad",
   "metadata": {},
   "outputs": [],
   "source": [
    "data['text'] = data['text'].astype(str)\n",
    "data = data.dropna(subset=['text', 'extraversion'])"
   ]
  },
  {
   "cell_type": "code",
   "execution_count": 50,
   "id": "6f09a8a6-cc24-4736-a065-758781a36607",
   "metadata": {},
   "outputs": [],
   "source": [
    "def preprocess_text(text):\n",
    "    text = text.lower()\n",
    "    text = re.sub(r'[^\\w\\s]', '', text)\n",
    "    text = ' '.join(word for word in text.split() if word not in stop_words)\n",
    "    \n",
    "    return text"
   ]
  },
  {
   "cell_type": "code",
   "execution_count": 51,
   "id": "d2e8279d-580b-4086-833f-0f737d76a50c",
   "metadata": {},
   "outputs": [],
   "source": [
    "data['text_preprocessed'] = data['text'].apply(preprocess_text)"
   ]
  },
  {
   "cell_type": "code",
   "execution_count": 52,
   "id": "e6ce8f92",
   "metadata": {},
   "outputs": [
    {
     "data": {
      "text/html": [
       "<div>\n",
       "<style scoped>\n",
       "    .dataframe tbody tr th:only-of-type {\n",
       "        vertical-align: middle;\n",
       "    }\n",
       "\n",
       "    .dataframe tbody tr th {\n",
       "        vertical-align: top;\n",
       "    }\n",
       "\n",
       "    .dataframe thead th {\n",
       "        text-align: right;\n",
       "    }\n",
       "</style>\n",
       "<table border=\"1\" class=\"dataframe\">\n",
       "  <thead>\n",
       "    <tr style=\"text-align: right;\">\n",
       "      <th></th>\n",
       "      <th>video</th>\n",
       "      <th>text</th>\n",
       "      <th>extraversion</th>\n",
       "      <th>neuroticism</th>\n",
       "      <th>agreeableness</th>\n",
       "      <th>interview</th>\n",
       "      <th>openness</th>\n",
       "      <th>conscientiousness</th>\n",
       "      <th>text_preprocessed</th>\n",
       "    </tr>\n",
       "  </thead>\n",
       "  <tbody>\n",
       "    <tr>\n",
       "      <th>0</th>\n",
       "      <td>J4GQm9j0JZ0.003.mp4</td>\n",
       "      <td>He's cutting it and then turn around and see t...</td>\n",
       "      <td>0.523364</td>\n",
       "      <td>0.552083</td>\n",
       "      <td>0.626374</td>\n",
       "      <td>0.504673</td>\n",
       "      <td>0.488889</td>\n",
       "      <td>0.601942</td>\n",
       "      <td>hes cutting turn around see end result im glad...</td>\n",
       "    </tr>\n",
       "    <tr>\n",
       "      <th>1</th>\n",
       "      <td>zEyRyTnIw5I.005.mp4</td>\n",
       "      <td>Responsibility to house the organ I had been g...</td>\n",
       "      <td>0.345794</td>\n",
       "      <td>0.375000</td>\n",
       "      <td>0.472527</td>\n",
       "      <td>0.457944</td>\n",
       "      <td>0.366667</td>\n",
       "      <td>0.582524</td>\n",
       "      <td>responsibility house organ given needed tell g...</td>\n",
       "    </tr>\n",
       "    <tr>\n",
       "      <th>2</th>\n",
       "      <td>nskJh7v6v1U.004.mp4</td>\n",
       "      <td>I actually got quite a few sets of black pens ...</td>\n",
       "      <td>0.252336</td>\n",
       "      <td>0.291667</td>\n",
       "      <td>0.406593</td>\n",
       "      <td>0.373832</td>\n",
       "      <td>0.511111</td>\n",
       "      <td>0.485437</td>\n",
       "      <td>actually got quite sets black pens year bought...</td>\n",
       "    </tr>\n",
       "    <tr>\n",
       "      <th>3</th>\n",
       "      <td>6wHQsN5g2RM.000.mp4</td>\n",
       "      <td>I ate a lot. I'd like a lot of foods. I rememb...</td>\n",
       "      <td>0.457944</td>\n",
       "      <td>0.489583</td>\n",
       "      <td>0.505495</td>\n",
       "      <td>0.457944</td>\n",
       "      <td>0.377778</td>\n",
       "      <td>0.398058</td>\n",
       "      <td>ate lot id like lot foods remember favorite ma...</td>\n",
       "    </tr>\n",
       "    <tr>\n",
       "      <th>4</th>\n",
       "      <td>dQOeQYWIgm8.000.mp4</td>\n",
       "      <td>Now I'll ask you guys to leave a question in t...</td>\n",
       "      <td>0.607477</td>\n",
       "      <td>0.489583</td>\n",
       "      <td>0.406593</td>\n",
       "      <td>0.570093</td>\n",
       "      <td>0.622222</td>\n",
       "      <td>0.621359</td>\n",
       "      <td>ill ask guys leave question comments hopefully...</td>\n",
       "    </tr>\n",
       "    <tr>\n",
       "      <th>...</th>\n",
       "      <td>...</td>\n",
       "      <td>...</td>\n",
       "      <td>...</td>\n",
       "      <td>...</td>\n",
       "      <td>...</td>\n",
       "      <td>...</td>\n",
       "      <td>...</td>\n",
       "      <td>...</td>\n",
       "      <td>...</td>\n",
       "    </tr>\n",
       "    <tr>\n",
       "      <th>5995</th>\n",
       "      <td>Eh7WRYXVh9M.000.mp4</td>\n",
       "      <td>I got to see a lot, got to experience a lot. Y...</td>\n",
       "      <td>0.523364</td>\n",
       "      <td>0.479167</td>\n",
       "      <td>0.626374</td>\n",
       "      <td>0.588785</td>\n",
       "      <td>0.544444</td>\n",
       "      <td>0.621359</td>\n",
       "      <td>got see lot got experience lot yeah didnt know...</td>\n",
       "    </tr>\n",
       "    <tr>\n",
       "      <th>5996</th>\n",
       "      <td>2q8orkMs2Jg.003.mp4</td>\n",
       "      <td>Really, really love my job, love the people I ...</td>\n",
       "      <td>0.728972</td>\n",
       "      <td>0.760417</td>\n",
       "      <td>0.582418</td>\n",
       "      <td>0.616822</td>\n",
       "      <td>0.822222</td>\n",
       "      <td>0.524272</td>\n",
       "      <td>really really love job love people work feel f...</td>\n",
       "    </tr>\n",
       "    <tr>\n",
       "      <th>5997</th>\n",
       "      <td>F1lAPYh4t3U.000.mp4</td>\n",
       "      <td>I have a nine-to-five. I said this in my last ...</td>\n",
       "      <td>0.700935</td>\n",
       "      <td>0.770833</td>\n",
       "      <td>0.747253</td>\n",
       "      <td>0.691589</td>\n",
       "      <td>0.788889</td>\n",
       "      <td>0.699029</td>\n",
       "      <td>ninetofive said last qa ninetofive per se prob...</td>\n",
       "    </tr>\n",
       "    <tr>\n",
       "      <th>5998</th>\n",
       "      <td>cxJ0u6r0-pU.001.mp4</td>\n",
       "      <td>You want to be working with and who you want t...</td>\n",
       "      <td>0.317757</td>\n",
       "      <td>0.531250</td>\n",
       "      <td>0.582418</td>\n",
       "      <td>0.616822</td>\n",
       "      <td>0.588889</td>\n",
       "      <td>0.679612</td>\n",
       "      <td>want working want help bring anyone could get ...</td>\n",
       "    </tr>\n",
       "    <tr>\n",
       "      <th>5999</th>\n",
       "      <td>hfUH9Am-Izs.000.mp4</td>\n",
       "      <td>No, but, it's really hard to explain. It reall...</td>\n",
       "      <td>0.401869</td>\n",
       "      <td>0.500000</td>\n",
       "      <td>0.461538</td>\n",
       "      <td>0.429907</td>\n",
       "      <td>0.588889</td>\n",
       "      <td>0.543689</td>\n",
       "      <td>really hard explain really somebody asked feel...</td>\n",
       "    </tr>\n",
       "  </tbody>\n",
       "</table>\n",
       "<p>6000 rows × 9 columns</p>\n",
       "</div>"
      ],
      "text/plain": [
       "                    video                                               text  \\\n",
       "0     J4GQm9j0JZ0.003.mp4  He's cutting it and then turn around and see t...   \n",
       "1     zEyRyTnIw5I.005.mp4  Responsibility to house the organ I had been g...   \n",
       "2     nskJh7v6v1U.004.mp4  I actually got quite a few sets of black pens ...   \n",
       "3     6wHQsN5g2RM.000.mp4  I ate a lot. I'd like a lot of foods. I rememb...   \n",
       "4     dQOeQYWIgm8.000.mp4  Now I'll ask you guys to leave a question in t...   \n",
       "...                   ...                                                ...   \n",
       "5995  Eh7WRYXVh9M.000.mp4  I got to see a lot, got to experience a lot. Y...   \n",
       "5996  2q8orkMs2Jg.003.mp4  Really, really love my job, love the people I ...   \n",
       "5997  F1lAPYh4t3U.000.mp4  I have a nine-to-five. I said this in my last ...   \n",
       "5998  cxJ0u6r0-pU.001.mp4  You want to be working with and who you want t...   \n",
       "5999  hfUH9Am-Izs.000.mp4  No, but, it's really hard to explain. It reall...   \n",
       "\n",
       "      extraversion  neuroticism  agreeableness  interview  openness  \\\n",
       "0         0.523364     0.552083       0.626374   0.504673  0.488889   \n",
       "1         0.345794     0.375000       0.472527   0.457944  0.366667   \n",
       "2         0.252336     0.291667       0.406593   0.373832  0.511111   \n",
       "3         0.457944     0.489583       0.505495   0.457944  0.377778   \n",
       "4         0.607477     0.489583       0.406593   0.570093  0.622222   \n",
       "...            ...          ...            ...        ...       ...   \n",
       "5995      0.523364     0.479167       0.626374   0.588785  0.544444   \n",
       "5996      0.728972     0.760417       0.582418   0.616822  0.822222   \n",
       "5997      0.700935     0.770833       0.747253   0.691589  0.788889   \n",
       "5998      0.317757     0.531250       0.582418   0.616822  0.588889   \n",
       "5999      0.401869     0.500000       0.461538   0.429907  0.588889   \n",
       "\n",
       "      conscientiousness                                  text_preprocessed  \n",
       "0              0.601942  hes cutting turn around see end result im glad...  \n",
       "1              0.582524  responsibility house organ given needed tell g...  \n",
       "2              0.485437  actually got quite sets black pens year bought...  \n",
       "3              0.398058  ate lot id like lot foods remember favorite ma...  \n",
       "4              0.621359  ill ask guys leave question comments hopefully...  \n",
       "...                 ...                                                ...  \n",
       "5995           0.621359  got see lot got experience lot yeah didnt know...  \n",
       "5996           0.524272  really really love job love people work feel f...  \n",
       "5997           0.699029  ninetofive said last qa ninetofive per se prob...  \n",
       "5998           0.679612  want working want help bring anyone could get ...  \n",
       "5999           0.543689  really hard explain really somebody asked feel...  \n",
       "\n",
       "[6000 rows x 9 columns]"
      ]
     },
     "execution_count": 52,
     "metadata": {},
     "output_type": "execute_result"
    }
   ],
   "source": [
    "data"
   ]
  },
  {
   "cell_type": "code",
   "execution_count": 28,
   "id": "74d40442",
   "metadata": {},
   "outputs": [],
   "source": [
    "def generate_additional_text_features(text):\n",
    "    words = word_tokenize(text)\n",
    "    sentences = sent_tokenize(text)\n",
    "    num_words = len(words)\n",
    "    num_sentences = len(sentences)\n",
    "    avg_sentence_length = num_words / num_sentences if num_sentences > 0 else 0\n",
    "    num_stopwords = sum(1 for word in words if word.lower() in stop_words)\n",
    "    stopwords_ratio = num_stopwords / num_words if num_words > 0 else 0\n",
    "    \n",
    "    emotional_words = [\"happy\", \"sad\", \"angry\", \"fear\", \"love\", \"hate\", \"joy\", \"surprise\", \"trust\", \"anticipation\"]\n",
    "    emotional_counts = Counter(word.lower() for word in words if word.lower() in emotional_words)\n",
    "    emotional_frequency = {f\"emotion_{emotion}\": count / num_words for emotion, count in emotional_counts.items()}\n",
    "    \n",
    "    num_long_words = sum(1 for word in words if len(word) > 6)\n",
    "    long_words_ratio = num_long_words / num_words if num_words > 0 else 0\n",
    "\n",
    "    features = {\n",
    "        \"num_words\": num_words,\n",
    "        \"num_sentences\": num_sentences,\n",
    "        \"avg_sentence_length\": avg_sentence_length,\n",
    "        \"stopwords_ratio\": stopwords_ratio,\n",
    "        \"long_words_ratio\": long_words_ratio,\n",
    "        **emotional_frequency\n",
    "    }\n",
    "    \n",
    "    return features"
   ]
  },
  {
   "cell_type": "code",
   "execution_count": 29,
   "id": "d312e434",
   "metadata": {},
   "outputs": [],
   "source": [
    "df = []\n",
    "\n",
    "for text in data.text:\n",
    "    df.append(generate_additional_text_features(str(text)))\n",
    "\n",
    "df = pd.DataFrame(df)"
   ]
  },
  {
   "cell_type": "code",
   "execution_count": 30,
   "id": "543e85a8",
   "metadata": {},
   "outputs": [],
   "source": [
    "data = pd.concat([data, df], axis=1).fillna(0)"
   ]
  },
  {
   "cell_type": "code",
   "execution_count": 31,
   "id": "70f3f0b6",
   "metadata": {},
   "outputs": [],
   "source": [
    "X = data.drop(columns=['video', 'extraversion', 'neuroticism', 'agreeableness', 'interview', 'openness', 'conscientiousness', 'text', 'text_preprocessed'])\n",
    "y = data.extraversion"
   ]
  },
  {
   "cell_type": "code",
   "execution_count": 32,
   "id": "ba20d5ed",
   "metadata": {},
   "outputs": [],
   "source": [
    "X_train, X_test, y_train, y_test = train_test_split(X, y, shuffle=True, test_size=0.2)"
   ]
  },
  {
   "cell_type": "code",
   "execution_count": 33,
   "id": "46cd7397",
   "metadata": {},
   "outputs": [
    {
     "name": "stdout",
     "output_type": "stream",
     "text": [
      "Learning rate set to 0.06514\n",
      "0:\tlearn: 0.1235878\ttest: 0.1239416\tbest: 0.1239416 (0)\ttotal: 1.52ms\tremaining: 1.52s\n",
      "100:\tlearn: 0.1204136\ttest: 0.1247796\tbest: 0.1239416 (0)\ttotal: 104ms\tremaining: 924ms\n",
      "200:\tlearn: 0.1173594\ttest: 0.1254273\tbest: 0.1239416 (0)\ttotal: 206ms\tremaining: 820ms\n",
      "300:\tlearn: 0.1141545\ttest: 0.1260420\tbest: 0.1239416 (0)\ttotal: 308ms\tremaining: 716ms\n",
      "400:\tlearn: 0.1112353\ttest: 0.1264748\tbest: 0.1239416 (0)\ttotal: 409ms\tremaining: 611ms\n",
      "500:\tlearn: 0.1086278\ttest: 0.1267984\tbest: 0.1239416 (0)\ttotal: 510ms\tremaining: 508ms\n",
      "600:\tlearn: 0.1060774\ttest: 0.1271906\tbest: 0.1239416 (0)\ttotal: 613ms\tremaining: 407ms\n",
      "700:\tlearn: 0.1034435\ttest: 0.1275572\tbest: 0.1239416 (0)\ttotal: 717ms\tremaining: 306ms\n",
      "800:\tlearn: 0.1013336\ttest: 0.1279253\tbest: 0.1239416 (0)\ttotal: 820ms\tremaining: 204ms\n",
      "900:\tlearn: 0.0993126\ttest: 0.1283292\tbest: 0.1239416 (0)\ttotal: 922ms\tremaining: 101ms\n",
      "999:\tlearn: 0.0973198\ttest: 0.1285444\tbest: 0.1239416 (0)\ttotal: 1.02s\tremaining: 0us\n",
      "\n",
      "bestTest = 0.1239415847\n",
      "bestIteration = 0\n",
      "\n",
      "Shrink model to first 1 iterations.\n"
     ]
    },
    {
     "data": {
      "text/plain": [
       "<catboost.core.CatBoostRegressor at 0x7f71cff99360>"
      ]
     },
     "execution_count": 33,
     "metadata": {},
     "output_type": "execute_result"
    }
   ],
   "source": [
    "model = CatBoostRegressor(use_best_model=True, verbose=100, eval_metric='MAE', ) #text_features=['text', 'text_preprocessed']\n",
    "model.fit(X_train, y_train, eval_set=(X_test, y_test))"
   ]
  },
  {
   "cell_type": "code",
   "execution_count": 7,
   "id": "3f530648",
   "metadata": {},
   "outputs": [],
   "source": [
    "from transformers import BertTokenizer, BertForSequenceClassification"
   ]
  },
  {
   "cell_type": "code",
   "execution_count": 8,
   "id": "3d2786bb",
   "metadata": {},
   "outputs": [
    {
     "data": {
      "application/vnd.jupyter.widget-view+json": {
       "model_id": "72cb64c8781a4c96855cc3bc83b1c98b",
       "version_major": 2,
       "version_minor": 0
      },
      "text/plain": [
       "tokenizer_config.json:   0%|          | 0.00/400 [00:00<?, ?B/s]"
      ]
     },
     "metadata": {},
     "output_type": "display_data"
    },
    {
     "data": {
      "application/vnd.jupyter.widget-view+json": {
       "model_id": "5f9003c9b1cc4c42aa427a8c9e236e43",
       "version_major": 2,
       "version_minor": 0
      },
      "text/plain": [
       "vocab.txt:   0%|          | 0.00/232k [00:00<?, ?B/s]"
      ]
     },
     "metadata": {},
     "output_type": "display_data"
    },
    {
     "data": {
      "application/vnd.jupyter.widget-view+json": {
       "model_id": "cdaaaf02b81449cc8499c6b88f34b27b",
       "version_major": 2,
       "version_minor": 0
      },
      "text/plain": [
       "special_tokens_map.json:   0%|          | 0.00/125 [00:00<?, ?B/s]"
      ]
     },
     "metadata": {},
     "output_type": "display_data"
    },
    {
     "data": {
      "application/vnd.jupyter.widget-view+json": {
       "model_id": "639bfb2ce7004927889e96ce05f095aa",
       "version_major": 2,
       "version_minor": 0
      },
      "text/plain": [
       "config.json:   0%|          | 0.00/908 [00:00<?, ?B/s]"
      ]
     },
     "metadata": {},
     "output_type": "display_data"
    },
    {
     "data": {
      "application/vnd.jupyter.widget-view+json": {
       "model_id": "0ec64ae776144ca1b8f85d3e2d686be6",
       "version_major": 2,
       "version_minor": 0
      },
      "text/plain": [
       "model.safetensors:   0%|          | 0.00/438M [00:00<?, ?B/s]"
      ]
     },
     "metadata": {},
     "output_type": "display_data"
    }
   ],
   "source": [
    "tokenizer = BertTokenizer.from_pretrained(\"Minej/bert-base-personality\")\n",
    "model = BertForSequenceClassification.from_pretrained(\"Minej/bert-base-personality\")\n",
    "\n",
    "def personality_detection(text):\n",
    "    inputs = tokenizer(text, truncation=True, padding=True, return_tensors=\"pt\")\n",
    "    outputs = model(**inputs)\n",
    "    predictions = outputs.logits.squeeze().detach().numpy()\n",
    "\n",
    "    label_names = ['Extroversion', 'Neuroticism', 'Agreeableness', 'Conscientiousness', 'Openness']\n",
    "    result = {label_names[i]: predictions[i] for i in range(len(label_names))}\n",
    "\n",
    "    return result"
   ]
  },
  {
   "cell_type": "code",
   "execution_count": 13,
   "id": "83951968",
   "metadata": {},
   "outputs": [
    {
     "data": {
      "text/html": [
       "<div>\n",
       "<style scoped>\n",
       "    .dataframe tbody tr th:only-of-type {\n",
       "        vertical-align: middle;\n",
       "    }\n",
       "\n",
       "    .dataframe tbody tr th {\n",
       "        vertical-align: top;\n",
       "    }\n",
       "\n",
       "    .dataframe thead th {\n",
       "        text-align: right;\n",
       "    }\n",
       "</style>\n",
       "<table border=\"1\" class=\"dataframe\">\n",
       "  <thead>\n",
       "    <tr style=\"text-align: right;\">\n",
       "      <th></th>\n",
       "      <th>video</th>\n",
       "      <th>text</th>\n",
       "      <th>extraversion</th>\n",
       "      <th>neuroticism</th>\n",
       "      <th>agreeableness</th>\n",
       "      <th>interview</th>\n",
       "      <th>openness</th>\n",
       "      <th>conscientiousness</th>\n",
       "    </tr>\n",
       "  </thead>\n",
       "  <tbody>\n",
       "    <tr>\n",
       "      <th>0</th>\n",
       "      <td>J4GQm9j0JZ0.003.mp4</td>\n",
       "      <td>He's cutting it and then turn around and see t...</td>\n",
       "      <td>0.523364</td>\n",
       "      <td>0.552083</td>\n",
       "      <td>0.626374</td>\n",
       "      <td>0.504673</td>\n",
       "      <td>0.488889</td>\n",
       "      <td>0.601942</td>\n",
       "    </tr>\n",
       "    <tr>\n",
       "      <th>1</th>\n",
       "      <td>zEyRyTnIw5I.005.mp4</td>\n",
       "      <td>Responsibility to house the organ I had been g...</td>\n",
       "      <td>0.345794</td>\n",
       "      <td>0.375000</td>\n",
       "      <td>0.472527</td>\n",
       "      <td>0.457944</td>\n",
       "      <td>0.366667</td>\n",
       "      <td>0.582524</td>\n",
       "    </tr>\n",
       "    <tr>\n",
       "      <th>2</th>\n",
       "      <td>nskJh7v6v1U.004.mp4</td>\n",
       "      <td>I actually got quite a few sets of black pens ...</td>\n",
       "      <td>0.252336</td>\n",
       "      <td>0.291667</td>\n",
       "      <td>0.406593</td>\n",
       "      <td>0.373832</td>\n",
       "      <td>0.511111</td>\n",
       "      <td>0.485437</td>\n",
       "    </tr>\n",
       "    <tr>\n",
       "      <th>3</th>\n",
       "      <td>6wHQsN5g2RM.000.mp4</td>\n",
       "      <td>I ate a lot. I'd like a lot of foods. I rememb...</td>\n",
       "      <td>0.457944</td>\n",
       "      <td>0.489583</td>\n",
       "      <td>0.505495</td>\n",
       "      <td>0.457944</td>\n",
       "      <td>0.377778</td>\n",
       "      <td>0.398058</td>\n",
       "    </tr>\n",
       "    <tr>\n",
       "      <th>4</th>\n",
       "      <td>dQOeQYWIgm8.000.mp4</td>\n",
       "      <td>Now I'll ask you guys to leave a question in t...</td>\n",
       "      <td>0.607477</td>\n",
       "      <td>0.489583</td>\n",
       "      <td>0.406593</td>\n",
       "      <td>0.570093</td>\n",
       "      <td>0.622222</td>\n",
       "      <td>0.621359</td>\n",
       "    </tr>\n",
       "    <tr>\n",
       "      <th>...</th>\n",
       "      <td>...</td>\n",
       "      <td>...</td>\n",
       "      <td>...</td>\n",
       "      <td>...</td>\n",
       "      <td>...</td>\n",
       "      <td>...</td>\n",
       "      <td>...</td>\n",
       "      <td>...</td>\n",
       "    </tr>\n",
       "    <tr>\n",
       "      <th>5995</th>\n",
       "      <td>Eh7WRYXVh9M.000.mp4</td>\n",
       "      <td>I got to see a lot, got to experience a lot. Y...</td>\n",
       "      <td>0.523364</td>\n",
       "      <td>0.479167</td>\n",
       "      <td>0.626374</td>\n",
       "      <td>0.588785</td>\n",
       "      <td>0.544444</td>\n",
       "      <td>0.621359</td>\n",
       "    </tr>\n",
       "    <tr>\n",
       "      <th>5996</th>\n",
       "      <td>2q8orkMs2Jg.003.mp4</td>\n",
       "      <td>Really, really love my job, love the people I ...</td>\n",
       "      <td>0.728972</td>\n",
       "      <td>0.760417</td>\n",
       "      <td>0.582418</td>\n",
       "      <td>0.616822</td>\n",
       "      <td>0.822222</td>\n",
       "      <td>0.524272</td>\n",
       "    </tr>\n",
       "    <tr>\n",
       "      <th>5997</th>\n",
       "      <td>F1lAPYh4t3U.000.mp4</td>\n",
       "      <td>I have a nine-to-five. I said this in my last ...</td>\n",
       "      <td>0.700935</td>\n",
       "      <td>0.770833</td>\n",
       "      <td>0.747253</td>\n",
       "      <td>0.691589</td>\n",
       "      <td>0.788889</td>\n",
       "      <td>0.699029</td>\n",
       "    </tr>\n",
       "    <tr>\n",
       "      <th>5998</th>\n",
       "      <td>cxJ0u6r0-pU.001.mp4</td>\n",
       "      <td>You want to be working with and who you want t...</td>\n",
       "      <td>0.317757</td>\n",
       "      <td>0.531250</td>\n",
       "      <td>0.582418</td>\n",
       "      <td>0.616822</td>\n",
       "      <td>0.588889</td>\n",
       "      <td>0.679612</td>\n",
       "    </tr>\n",
       "    <tr>\n",
       "      <th>5999</th>\n",
       "      <td>hfUH9Am-Izs.000.mp4</td>\n",
       "      <td>No, but, it's really hard to explain. It reall...</td>\n",
       "      <td>0.401869</td>\n",
       "      <td>0.500000</td>\n",
       "      <td>0.461538</td>\n",
       "      <td>0.429907</td>\n",
       "      <td>0.588889</td>\n",
       "      <td>0.543689</td>\n",
       "    </tr>\n",
       "  </tbody>\n",
       "</table>\n",
       "<p>6000 rows × 8 columns</p>\n",
       "</div>"
      ],
      "text/plain": [
       "                    video                                               text  \\\n",
       "0     J4GQm9j0JZ0.003.mp4  He's cutting it and then turn around and see t...   \n",
       "1     zEyRyTnIw5I.005.mp4  Responsibility to house the organ I had been g...   \n",
       "2     nskJh7v6v1U.004.mp4  I actually got quite a few sets of black pens ...   \n",
       "3     6wHQsN5g2RM.000.mp4  I ate a lot. I'd like a lot of foods. I rememb...   \n",
       "4     dQOeQYWIgm8.000.mp4  Now I'll ask you guys to leave a question in t...   \n",
       "...                   ...                                                ...   \n",
       "5995  Eh7WRYXVh9M.000.mp4  I got to see a lot, got to experience a lot. Y...   \n",
       "5996  2q8orkMs2Jg.003.mp4  Really, really love my job, love the people I ...   \n",
       "5997  F1lAPYh4t3U.000.mp4  I have a nine-to-five. I said this in my last ...   \n",
       "5998  cxJ0u6r0-pU.001.mp4  You want to be working with and who you want t...   \n",
       "5999  hfUH9Am-Izs.000.mp4  No, but, it's really hard to explain. It reall...   \n",
       "\n",
       "      extraversion  neuroticism  agreeableness  interview  openness  \\\n",
       "0         0.523364     0.552083       0.626374   0.504673  0.488889   \n",
       "1         0.345794     0.375000       0.472527   0.457944  0.366667   \n",
       "2         0.252336     0.291667       0.406593   0.373832  0.511111   \n",
       "3         0.457944     0.489583       0.505495   0.457944  0.377778   \n",
       "4         0.607477     0.489583       0.406593   0.570093  0.622222   \n",
       "...            ...          ...            ...        ...       ...   \n",
       "5995      0.523364     0.479167       0.626374   0.588785  0.544444   \n",
       "5996      0.728972     0.760417       0.582418   0.616822  0.822222   \n",
       "5997      0.700935     0.770833       0.747253   0.691589  0.788889   \n",
       "5998      0.317757     0.531250       0.582418   0.616822  0.588889   \n",
       "5999      0.401869     0.500000       0.461538   0.429907  0.588889   \n",
       "\n",
       "      conscientiousness  \n",
       "0              0.601942  \n",
       "1              0.582524  \n",
       "2              0.485437  \n",
       "3              0.398058  \n",
       "4              0.621359  \n",
       "...                 ...  \n",
       "5995           0.621359  \n",
       "5996           0.524272  \n",
       "5997           0.699029  \n",
       "5998           0.679612  \n",
       "5999           0.543689  \n",
       "\n",
       "[6000 rows x 8 columns]"
      ]
     },
     "execution_count": 13,
     "metadata": {},
     "output_type": "execute_result"
    }
   ],
   "source": [
    "data"
   ]
  },
  {
   "cell_type": "code",
   "execution_count": 20,
   "id": "eab8b2d7",
   "metadata": {},
   "outputs": [
    {
     "data": {
      "text/plain": [
       "{'Extroversion': 0.17577949,\n",
       " 'Neuroticism': 0.06724694,\n",
       " 'Agreeableness': 0.0672438,\n",
       " 'Conscientiousness': -0.19891754,\n",
       " 'Openness': 0.16153476}"
      ]
     },
     "execution_count": 20,
     "metadata": {},
     "output_type": "execute_result"
    }
   ],
   "source": [
    "personality_detection(data.iloc[0].text)"
   ]
  },
  {
   "cell_type": "code",
   "execution_count": 53,
   "id": "ce503c28",
   "metadata": {},
   "outputs": [
    {
     "name": "stderr",
     "output_type": "stream",
     "text": [
      "6000it [06:19, 15.80it/s]\n"
     ]
    },
    {
     "data": {
      "text/html": [
       "<div>\n",
       "<style scoped>\n",
       "    .dataframe tbody tr th:only-of-type {\n",
       "        vertical-align: middle;\n",
       "    }\n",
       "\n",
       "    .dataframe tbody tr th {\n",
       "        vertical-align: top;\n",
       "    }\n",
       "\n",
       "    .dataframe thead th {\n",
       "        text-align: right;\n",
       "    }\n",
       "</style>\n",
       "<table border=\"1\" class=\"dataframe\">\n",
       "  <thead>\n",
       "    <tr style=\"text-align: right;\">\n",
       "      <th></th>\n",
       "      <th>Extroversion</th>\n",
       "      <th>Neuroticism</th>\n",
       "      <th>Agreeableness</th>\n",
       "      <th>Conscientiousness</th>\n",
       "      <th>Openness</th>\n",
       "    </tr>\n",
       "  </thead>\n",
       "  <tbody>\n",
       "    <tr>\n",
       "      <th>0</th>\n",
       "      <td>0.050920</td>\n",
       "      <td>0.098305</td>\n",
       "      <td>-0.169253</td>\n",
       "      <td>-0.792664</td>\n",
       "      <td>0.013037</td>\n",
       "    </tr>\n",
       "    <tr>\n",
       "      <th>1</th>\n",
       "      <td>0.163965</td>\n",
       "      <td>0.155553</td>\n",
       "      <td>-0.375368</td>\n",
       "      <td>-0.926911</td>\n",
       "      <td>0.062853</td>\n",
       "    </tr>\n",
       "    <tr>\n",
       "      <th>2</th>\n",
       "      <td>0.064799</td>\n",
       "      <td>0.110624</td>\n",
       "      <td>-0.334377</td>\n",
       "      <td>-0.896726</td>\n",
       "      <td>0.060532</td>\n",
       "    </tr>\n",
       "    <tr>\n",
       "      <th>3</th>\n",
       "      <td>0.057381</td>\n",
       "      <td>0.218640</td>\n",
       "      <td>-0.186665</td>\n",
       "      <td>-0.905684</td>\n",
       "      <td>0.140462</td>\n",
       "    </tr>\n",
       "    <tr>\n",
       "      <th>4</th>\n",
       "      <td>0.249427</td>\n",
       "      <td>0.076483</td>\n",
       "      <td>-0.373975</td>\n",
       "      <td>-1.020600</td>\n",
       "      <td>0.065929</td>\n",
       "    </tr>\n",
       "    <tr>\n",
       "      <th>...</th>\n",
       "      <td>...</td>\n",
       "      <td>...</td>\n",
       "      <td>...</td>\n",
       "      <td>...</td>\n",
       "      <td>...</td>\n",
       "    </tr>\n",
       "    <tr>\n",
       "      <th>5995</th>\n",
       "      <td>0.130956</td>\n",
       "      <td>0.145444</td>\n",
       "      <td>-0.204086</td>\n",
       "      <td>-0.823804</td>\n",
       "      <td>0.035300</td>\n",
       "    </tr>\n",
       "    <tr>\n",
       "      <th>5996</th>\n",
       "      <td>0.288234</td>\n",
       "      <td>0.238590</td>\n",
       "      <td>-0.443498</td>\n",
       "      <td>-1.129111</td>\n",
       "      <td>0.188047</td>\n",
       "    </tr>\n",
       "    <tr>\n",
       "      <th>5997</th>\n",
       "      <td>-0.003428</td>\n",
       "      <td>0.019143</td>\n",
       "      <td>-0.134987</td>\n",
       "      <td>-0.817869</td>\n",
       "      <td>-0.248194</td>\n",
       "    </tr>\n",
       "    <tr>\n",
       "      <th>5998</th>\n",
       "      <td>0.098568</td>\n",
       "      <td>0.243888</td>\n",
       "      <td>-0.359588</td>\n",
       "      <td>-1.018936</td>\n",
       "      <td>0.093485</td>\n",
       "    </tr>\n",
       "    <tr>\n",
       "      <th>5999</th>\n",
       "      <td>0.137923</td>\n",
       "      <td>0.116933</td>\n",
       "      <td>-0.305165</td>\n",
       "      <td>-0.955753</td>\n",
       "      <td>-0.050273</td>\n",
       "    </tr>\n",
       "  </tbody>\n",
       "</table>\n",
       "<p>6000 rows × 5 columns</p>\n",
       "</div>"
      ],
      "text/plain": [
       "      Extroversion  Neuroticism  Agreeableness  Conscientiousness  Openness\n",
       "0         0.050920     0.098305      -0.169253          -0.792664  0.013037\n",
       "1         0.163965     0.155553      -0.375368          -0.926911  0.062853\n",
       "2         0.064799     0.110624      -0.334377          -0.896726  0.060532\n",
       "3         0.057381     0.218640      -0.186665          -0.905684  0.140462\n",
       "4         0.249427     0.076483      -0.373975          -1.020600  0.065929\n",
       "...            ...          ...            ...                ...       ...\n",
       "5995      0.130956     0.145444      -0.204086          -0.823804  0.035300\n",
       "5996      0.288234     0.238590      -0.443498          -1.129111  0.188047\n",
       "5997     -0.003428     0.019143      -0.134987          -0.817869 -0.248194\n",
       "5998      0.098568     0.243888      -0.359588          -1.018936  0.093485\n",
       "5999      0.137923     0.116933      -0.305165          -0.955753 -0.050273\n",
       "\n",
       "[6000 rows x 5 columns]"
      ]
     },
     "execution_count": 53,
     "metadata": {},
     "output_type": "execute_result"
    }
   ],
   "source": [
    "abc = []\n",
    "\n",
    "for i, row in tqdm(data.iterrows()):\n",
    "    text = str(row.text_preprocessed)\n",
    "    abc.append(personality_detection(text))\n",
    "\n",
    "abc = pd.DataFrame(abc)\n",
    "abc"
   ]
  },
  {
   "cell_type": "code",
   "execution_count": 55,
   "id": "ab755368",
   "metadata": {},
   "outputs": [],
   "source": [
    "def map_range(x, a, b, c, d):\n",
    "    return c + (d - c) * (x - a) / (b - a)"
   ]
  },
  {
   "cell_type": "code",
   "execution_count": 56,
   "id": "ef79983a",
   "metadata": {},
   "outputs": [],
   "source": [
    "a = abc.copy()"
   ]
  },
  {
   "cell_type": "code",
   "execution_count": 57,
   "id": "df6c5a1c",
   "metadata": {},
   "outputs": [
    {
     "data": {
      "text/plain": [
       "0.51976234"
      ]
     },
     "execution_count": 57,
     "metadata": {},
     "output_type": "execute_result"
    }
   ],
   "source": [
    "a.Extroversion.max()"
   ]
  },
  {
   "cell_type": "code",
   "execution_count": 58,
   "id": "208d08c7",
   "metadata": {},
   "outputs": [
    {
     "data": {
      "text/plain": [
       "-0.79762787"
      ]
     },
     "execution_count": 58,
     "metadata": {},
     "output_type": "execute_result"
    }
   ],
   "source": [
    "abc.Extroversion.min()"
   ]
  },
  {
   "cell_type": "code",
   "execution_count": 59,
   "id": "e9204194",
   "metadata": {},
   "outputs": [
    {
     "data": {
      "text/plain": [
       "0.4345540965545271"
      ]
     },
     "execution_count": 59,
     "metadata": {},
     "output_type": "execute_result"
    }
   ],
   "source": [
    "root_mean_squared_error(data.extraversion, abc.Extroversion)"
   ]
  },
  {
   "cell_type": "code",
   "execution_count": 60,
   "id": "94f39e3b",
   "metadata": {},
   "outputs": [
    {
     "data": {
      "text/plain": [
       "0.2921321674228767"
      ]
     },
     "execution_count": 60,
     "metadata": {},
     "output_type": "execute_result"
    }
   ],
   "source": [
    "root_mean_squared_error(data.extraversion, a.Extroversion.map(lambda x: map_range(x, -0.79762787, 0.51976234, 0, 1)))"
   ]
  },
  {
   "cell_type": "code",
   "execution_count": 63,
   "id": "e85c7863",
   "metadata": {},
   "outputs": [
    {
     "data": {
      "text/plain": [
       "0.41769940055031707"
      ]
     },
     "execution_count": 63,
     "metadata": {},
     "output_type": "execute_result"
    }
   ],
   "source": [
    "root_mean_squared_error(data.neuroticism, abc.Neuroticism)"
   ]
  },
  {
   "cell_type": "code",
   "execution_count": 64,
   "id": "b79f1b27",
   "metadata": {},
   "outputs": [
    {
     "data": {
      "text/plain": [
       "0.8789985047270198"
      ]
     },
     "execution_count": 64,
     "metadata": {},
     "output_type": "execute_result"
    }
   ],
   "source": [
    "root_mean_squared_error(data.agreeableness, abc.Agreeableness)"
   ]
  },
  {
   "cell_type": "code",
   "execution_count": 65,
   "id": "6c17d359",
   "metadata": {},
   "outputs": [
    {
     "data": {
      "text/plain": [
       "0.5157688823139074"
      ]
     },
     "execution_count": 65,
     "metadata": {},
     "output_type": "execute_result"
    }
   ],
   "source": [
    "root_mean_squared_error(data.openness, abc.Openness)"
   ]
  },
  {
   "cell_type": "code",
   "execution_count": 66,
   "id": "96e3087b",
   "metadata": {},
   "outputs": [
    {
     "data": {
      "text/plain": [
       "1.480150620192249"
      ]
     },
     "execution_count": 66,
     "metadata": {},
     "output_type": "execute_result"
    }
   ],
   "source": [
    "root_mean_squared_error(data.conscientiousness, abc.Conscientiousness)"
   ]
  },
  {
   "cell_type": "code",
   "execution_count": 77,
   "id": "3dce9711",
   "metadata": {},
   "outputs": [],
   "source": [
    "X = data[['extraversion']]\n",
    "y = data.conscientiousness"
   ]
  },
  {
   "cell_type": "code",
   "execution_count": 78,
   "id": "a6e243f7",
   "metadata": {},
   "outputs": [],
   "source": [
    "X_train, X_test, y_train, y_test = train_test_split(X, y, shuffle=True, random_state=42, test_size=0.15)"
   ]
  },
  {
   "cell_type": "code",
   "execution_count": 79,
   "id": "abea95e8",
   "metadata": {},
   "outputs": [
    {
     "data": {
      "text/plain": [
       "<catboost.core.CatBoostRegressor at 0x7fe09bd49bd0>"
      ]
     },
     "execution_count": 79,
     "metadata": {},
     "output_type": "execute_result"
    }
   ],
   "source": [
    "model = CatBoostRegressor(verbose=False, eval_metric='RMSE')\n",
    "model.fit(X_train, y_train)"
   ]
  },
  {
   "cell_type": "code",
   "execution_count": 80,
   "id": "98426312",
   "metadata": {},
   "outputs": [
    {
     "data": {
      "text/plain": [
       "0.12190148463295875"
      ]
     },
     "execution_count": 80,
     "metadata": {},
     "output_type": "execute_result"
    }
   ],
   "source": [
    "root_mean_squared_error(y_test, model.predict(X_test))"
   ]
  },
  {
   "cell_type": "code",
   "execution_count": 83,
   "id": "857e3d66",
   "metadata": {},
   "outputs": [
    {
     "data": {
      "text/html": [
       "<div>\n",
       "<style scoped>\n",
       "    .dataframe tbody tr th:only-of-type {\n",
       "        vertical-align: middle;\n",
       "    }\n",
       "\n",
       "    .dataframe tbody tr th {\n",
       "        vertical-align: top;\n",
       "    }\n",
       "\n",
       "    .dataframe thead th {\n",
       "        text-align: right;\n",
       "    }\n",
       "</style>\n",
       "<table border=\"1\" class=\"dataframe\">\n",
       "  <thead>\n",
       "    <tr style=\"text-align: right;\">\n",
       "      <th></th>\n",
       "      <th>video</th>\n",
       "      <th>text</th>\n",
       "      <th>extraversion</th>\n",
       "      <th>neuroticism</th>\n",
       "      <th>agreeableness</th>\n",
       "      <th>interview</th>\n",
       "      <th>openness</th>\n",
       "      <th>conscientiousness</th>\n",
       "    </tr>\n",
       "  </thead>\n",
       "  <tbody>\n",
       "    <tr>\n",
       "      <th>0</th>\n",
       "      <td>modNfUPt3F4.002.mp4</td>\n",
       "      <td>[inaudible 00:00:16] and then I will do the vo...</td>\n",
       "      <td>0.644860</td>\n",
       "      <td>0.593750</td>\n",
       "      <td>0.615385</td>\n",
       "      <td>0.616822</td>\n",
       "      <td>0.555556</td>\n",
       "      <td>0.640777</td>\n",
       "    </tr>\n",
       "    <tr>\n",
       "      <th>1</th>\n",
       "      <td>h6LOjpCRXtY.005.mp4</td>\n",
       "      <td>Personality is A1, I like you. So that is all ...</td>\n",
       "      <td>0.439252</td>\n",
       "      <td>0.520833</td>\n",
       "      <td>0.417582</td>\n",
       "      <td>0.439252</td>\n",
       "      <td>0.411111</td>\n",
       "      <td>0.572816</td>\n",
       "    </tr>\n",
       "    <tr>\n",
       "      <th>2</th>\n",
       "      <td>WER4ww680QQ.004.mp4</td>\n",
       "      <td>Ewe. But yeah, some people been asking me if I...</td>\n",
       "      <td>0.457944</td>\n",
       "      <td>0.312500</td>\n",
       "      <td>0.428571</td>\n",
       "      <td>0.373832</td>\n",
       "      <td>0.555556</td>\n",
       "      <td>0.398058</td>\n",
       "    </tr>\n",
       "    <tr>\n",
       "      <th>3</th>\n",
       "      <td>c4XnKouozXU.002.mp4</td>\n",
       "      <td>I am a makeup artist, I am an aesthetician, I ...</td>\n",
       "      <td>0.364486</td>\n",
       "      <td>0.572917</td>\n",
       "      <td>0.527473</td>\n",
       "      <td>0.523364</td>\n",
       "      <td>0.322222</td>\n",
       "      <td>0.553398</td>\n",
       "    </tr>\n",
       "    <tr>\n",
       "      <th>4</th>\n",
       "      <td>OEKg-Tvwcbk.002.mp4</td>\n",
       "      <td>Sucks. When he agrees, yeah. It just sucks bec...</td>\n",
       "      <td>0.345794</td>\n",
       "      <td>0.468750</td>\n",
       "      <td>0.516484</td>\n",
       "      <td>0.383178</td>\n",
       "      <td>0.477778</td>\n",
       "      <td>0.417476</td>\n",
       "    </tr>\n",
       "    <tr>\n",
       "      <th>...</th>\n",
       "      <td>...</td>\n",
       "      <td>...</td>\n",
       "      <td>...</td>\n",
       "      <td>...</td>\n",
       "      <td>...</td>\n",
       "      <td>...</td>\n",
       "      <td>...</td>\n",
       "      <td>...</td>\n",
       "    </tr>\n",
       "    <tr>\n",
       "      <th>1995</th>\n",
       "      <td>3LAaFUSGvsU.000.mp4</td>\n",
       "      <td>Really qualified to. The guy who last week was...</td>\n",
       "      <td>0.570093</td>\n",
       "      <td>0.614583</td>\n",
       "      <td>0.494505</td>\n",
       "      <td>0.626168</td>\n",
       "      <td>0.577778</td>\n",
       "      <td>0.689320</td>\n",
       "    </tr>\n",
       "    <tr>\n",
       "      <th>1996</th>\n",
       "      <td>n2BuwHbdilY.000.mp4</td>\n",
       "      <td>Wearing scarfs on the second date. Okay, so no...</td>\n",
       "      <td>0.542056</td>\n",
       "      <td>0.541667</td>\n",
       "      <td>0.549451</td>\n",
       "      <td>0.579439</td>\n",
       "      <td>0.666667</td>\n",
       "      <td>0.669903</td>\n",
       "    </tr>\n",
       "    <tr>\n",
       "      <th>1997</th>\n",
       "      <td>GcuoyJPO-KU.003.mp4</td>\n",
       "      <td>\"How do you manage to do things with someone? ...</td>\n",
       "      <td>0.551402</td>\n",
       "      <td>0.593750</td>\n",
       "      <td>0.560440</td>\n",
       "      <td>0.504673</td>\n",
       "      <td>0.644444</td>\n",
       "      <td>0.572816</td>\n",
       "    </tr>\n",
       "    <tr>\n",
       "      <th>1998</th>\n",
       "      <td>uf_sIIw4zxY.004.mp4</td>\n",
       "      <td>-I sell. No. Sophie Loveland, \"Will you be pos...</td>\n",
       "      <td>0.514019</td>\n",
       "      <td>0.552083</td>\n",
       "      <td>0.461538</td>\n",
       "      <td>0.551402</td>\n",
       "      <td>0.733333</td>\n",
       "      <td>0.572816</td>\n",
       "    </tr>\n",
       "    <tr>\n",
       "      <th>1999</th>\n",
       "      <td>jd9_8OPxM3A.003.mp4</td>\n",
       "      <td>-to live together and to create a world where ...</td>\n",
       "      <td>0.560748</td>\n",
       "      <td>0.635417</td>\n",
       "      <td>0.725275</td>\n",
       "      <td>0.635514</td>\n",
       "      <td>0.666667</td>\n",
       "      <td>0.621359</td>\n",
       "    </tr>\n",
       "  </tbody>\n",
       "</table>\n",
       "<p>2000 rows × 8 columns</p>\n",
       "</div>"
      ],
      "text/plain": [
       "                    video                                               text  \\\n",
       "0     modNfUPt3F4.002.mp4  [inaudible 00:00:16] and then I will do the vo...   \n",
       "1     h6LOjpCRXtY.005.mp4  Personality is A1, I like you. So that is all ...   \n",
       "2     WER4ww680QQ.004.mp4  Ewe. But yeah, some people been asking me if I...   \n",
       "3     c4XnKouozXU.002.mp4  I am a makeup artist, I am an aesthetician, I ...   \n",
       "4     OEKg-Tvwcbk.002.mp4  Sucks. When he agrees, yeah. It just sucks bec...   \n",
       "...                   ...                                                ...   \n",
       "1995  3LAaFUSGvsU.000.mp4  Really qualified to. The guy who last week was...   \n",
       "1996  n2BuwHbdilY.000.mp4  Wearing scarfs on the second date. Okay, so no...   \n",
       "1997  GcuoyJPO-KU.003.mp4  \"How do you manage to do things with someone? ...   \n",
       "1998  uf_sIIw4zxY.004.mp4  -I sell. No. Sophie Loveland, \"Will you be pos...   \n",
       "1999  jd9_8OPxM3A.003.mp4  -to live together and to create a world where ...   \n",
       "\n",
       "      extraversion  neuroticism  agreeableness  interview  openness  \\\n",
       "0         0.644860     0.593750       0.615385   0.616822  0.555556   \n",
       "1         0.439252     0.520833       0.417582   0.439252  0.411111   \n",
       "2         0.457944     0.312500       0.428571   0.373832  0.555556   \n",
       "3         0.364486     0.572917       0.527473   0.523364  0.322222   \n",
       "4         0.345794     0.468750       0.516484   0.383178  0.477778   \n",
       "...            ...          ...            ...        ...       ...   \n",
       "1995      0.570093     0.614583       0.494505   0.626168  0.577778   \n",
       "1996      0.542056     0.541667       0.549451   0.579439  0.666667   \n",
       "1997      0.551402     0.593750       0.560440   0.504673  0.644444   \n",
       "1998      0.514019     0.552083       0.461538   0.551402  0.733333   \n",
       "1999      0.560748     0.635417       0.725275   0.635514  0.666667   \n",
       "\n",
       "      conscientiousness  \n",
       "0              0.640777  \n",
       "1              0.572816  \n",
       "2              0.398058  \n",
       "3              0.553398  \n",
       "4              0.417476  \n",
       "...                 ...  \n",
       "1995           0.689320  \n",
       "1996           0.669903  \n",
       "1997           0.572816  \n",
       "1998           0.572816  \n",
       "1999           0.621359  \n",
       "\n",
       "[2000 rows x 8 columns]"
      ]
     },
     "execution_count": 83,
     "metadata": {},
     "output_type": "execute_result"
    }
   ],
   "source": [
    "data_valid = pd.read_csv('environments/data_valid.csv')\n",
    "data_valid"
   ]
  },
  {
   "cell_type": "code",
   "execution_count": 84,
   "id": "f63614ec",
   "metadata": {},
   "outputs": [],
   "source": [
    "data_valid['text_preprocessed'] = data_valid['text'].apply(preprocess_text)"
   ]
  },
  {
   "cell_type": "code",
   "execution_count": 87,
   "id": "69888236",
   "metadata": {},
   "outputs": [
    {
     "data": {
      "text/html": [
       "<div>\n",
       "<style scoped>\n",
       "    .dataframe tbody tr th:only-of-type {\n",
       "        vertical-align: middle;\n",
       "    }\n",
       "\n",
       "    .dataframe tbody tr th {\n",
       "        vertical-align: top;\n",
       "    }\n",
       "\n",
       "    .dataframe thead th {\n",
       "        text-align: right;\n",
       "    }\n",
       "</style>\n",
       "<table border=\"1\" class=\"dataframe\">\n",
       "  <thead>\n",
       "    <tr style=\"text-align: right;\">\n",
       "      <th></th>\n",
       "      <th>video</th>\n",
       "      <th>text</th>\n",
       "      <th>extraversion</th>\n",
       "      <th>neuroticism</th>\n",
       "      <th>agreeableness</th>\n",
       "      <th>interview</th>\n",
       "      <th>openness</th>\n",
       "      <th>conscientiousness</th>\n",
       "      <th>text_preprocessed</th>\n",
       "    </tr>\n",
       "  </thead>\n",
       "  <tbody>\n",
       "    <tr>\n",
       "      <th>0</th>\n",
       "      <td>J4GQm9j0JZ0.003.mp4</td>\n",
       "      <td>He's cutting it and then turn around and see t...</td>\n",
       "      <td>0.523364</td>\n",
       "      <td>0.552083</td>\n",
       "      <td>0.626374</td>\n",
       "      <td>0.504673</td>\n",
       "      <td>0.488889</td>\n",
       "      <td>0.601942</td>\n",
       "      <td>hes cutting turn around see end result im glad...</td>\n",
       "    </tr>\n",
       "    <tr>\n",
       "      <th>1</th>\n",
       "      <td>zEyRyTnIw5I.005.mp4</td>\n",
       "      <td>Responsibility to house the organ I had been g...</td>\n",
       "      <td>0.345794</td>\n",
       "      <td>0.375000</td>\n",
       "      <td>0.472527</td>\n",
       "      <td>0.457944</td>\n",
       "      <td>0.366667</td>\n",
       "      <td>0.582524</td>\n",
       "      <td>responsibility house organ given needed tell g...</td>\n",
       "    </tr>\n",
       "    <tr>\n",
       "      <th>2</th>\n",
       "      <td>nskJh7v6v1U.004.mp4</td>\n",
       "      <td>I actually got quite a few sets of black pens ...</td>\n",
       "      <td>0.252336</td>\n",
       "      <td>0.291667</td>\n",
       "      <td>0.406593</td>\n",
       "      <td>0.373832</td>\n",
       "      <td>0.511111</td>\n",
       "      <td>0.485437</td>\n",
       "      <td>actually got quite sets black pens year bought...</td>\n",
       "    </tr>\n",
       "    <tr>\n",
       "      <th>3</th>\n",
       "      <td>6wHQsN5g2RM.000.mp4</td>\n",
       "      <td>I ate a lot. I'd like a lot of foods. I rememb...</td>\n",
       "      <td>0.457944</td>\n",
       "      <td>0.489583</td>\n",
       "      <td>0.505495</td>\n",
       "      <td>0.457944</td>\n",
       "      <td>0.377778</td>\n",
       "      <td>0.398058</td>\n",
       "      <td>ate lot id like lot foods remember favorite ma...</td>\n",
       "    </tr>\n",
       "    <tr>\n",
       "      <th>4</th>\n",
       "      <td>dQOeQYWIgm8.000.mp4</td>\n",
       "      <td>Now I'll ask you guys to leave a question in t...</td>\n",
       "      <td>0.607477</td>\n",
       "      <td>0.489583</td>\n",
       "      <td>0.406593</td>\n",
       "      <td>0.570093</td>\n",
       "      <td>0.622222</td>\n",
       "      <td>0.621359</td>\n",
       "      <td>ill ask guys leave question comments hopefully...</td>\n",
       "    </tr>\n",
       "    <tr>\n",
       "      <th>...</th>\n",
       "      <td>...</td>\n",
       "      <td>...</td>\n",
       "      <td>...</td>\n",
       "      <td>...</td>\n",
       "      <td>...</td>\n",
       "      <td>...</td>\n",
       "      <td>...</td>\n",
       "      <td>...</td>\n",
       "      <td>...</td>\n",
       "    </tr>\n",
       "    <tr>\n",
       "      <th>5995</th>\n",
       "      <td>Eh7WRYXVh9M.000.mp4</td>\n",
       "      <td>I got to see a lot, got to experience a lot. Y...</td>\n",
       "      <td>0.523364</td>\n",
       "      <td>0.479167</td>\n",
       "      <td>0.626374</td>\n",
       "      <td>0.588785</td>\n",
       "      <td>0.544444</td>\n",
       "      <td>0.621359</td>\n",
       "      <td>got see lot got experience lot yeah didnt know...</td>\n",
       "    </tr>\n",
       "    <tr>\n",
       "      <th>5996</th>\n",
       "      <td>2q8orkMs2Jg.003.mp4</td>\n",
       "      <td>Really, really love my job, love the people I ...</td>\n",
       "      <td>0.728972</td>\n",
       "      <td>0.760417</td>\n",
       "      <td>0.582418</td>\n",
       "      <td>0.616822</td>\n",
       "      <td>0.822222</td>\n",
       "      <td>0.524272</td>\n",
       "      <td>really really love job love people work feel f...</td>\n",
       "    </tr>\n",
       "    <tr>\n",
       "      <th>5997</th>\n",
       "      <td>F1lAPYh4t3U.000.mp4</td>\n",
       "      <td>I have a nine-to-five. I said this in my last ...</td>\n",
       "      <td>0.700935</td>\n",
       "      <td>0.770833</td>\n",
       "      <td>0.747253</td>\n",
       "      <td>0.691589</td>\n",
       "      <td>0.788889</td>\n",
       "      <td>0.699029</td>\n",
       "      <td>ninetofive said last qa ninetofive per se prob...</td>\n",
       "    </tr>\n",
       "    <tr>\n",
       "      <th>5998</th>\n",
       "      <td>cxJ0u6r0-pU.001.mp4</td>\n",
       "      <td>You want to be working with and who you want t...</td>\n",
       "      <td>0.317757</td>\n",
       "      <td>0.531250</td>\n",
       "      <td>0.582418</td>\n",
       "      <td>0.616822</td>\n",
       "      <td>0.588889</td>\n",
       "      <td>0.679612</td>\n",
       "      <td>want working want help bring anyone could get ...</td>\n",
       "    </tr>\n",
       "    <tr>\n",
       "      <th>5999</th>\n",
       "      <td>hfUH9Am-Izs.000.mp4</td>\n",
       "      <td>No, but, it's really hard to explain. It reall...</td>\n",
       "      <td>0.401869</td>\n",
       "      <td>0.500000</td>\n",
       "      <td>0.461538</td>\n",
       "      <td>0.429907</td>\n",
       "      <td>0.588889</td>\n",
       "      <td>0.543689</td>\n",
       "      <td>really hard explain really somebody asked feel...</td>\n",
       "    </tr>\n",
       "  </tbody>\n",
       "</table>\n",
       "<p>6000 rows × 9 columns</p>\n",
       "</div>"
      ],
      "text/plain": [
       "                    video                                               text  \\\n",
       "0     J4GQm9j0JZ0.003.mp4  He's cutting it and then turn around and see t...   \n",
       "1     zEyRyTnIw5I.005.mp4  Responsibility to house the organ I had been g...   \n",
       "2     nskJh7v6v1U.004.mp4  I actually got quite a few sets of black pens ...   \n",
       "3     6wHQsN5g2RM.000.mp4  I ate a lot. I'd like a lot of foods. I rememb...   \n",
       "4     dQOeQYWIgm8.000.mp4  Now I'll ask you guys to leave a question in t...   \n",
       "...                   ...                                                ...   \n",
       "5995  Eh7WRYXVh9M.000.mp4  I got to see a lot, got to experience a lot. Y...   \n",
       "5996  2q8orkMs2Jg.003.mp4  Really, really love my job, love the people I ...   \n",
       "5997  F1lAPYh4t3U.000.mp4  I have a nine-to-five. I said this in my last ...   \n",
       "5998  cxJ0u6r0-pU.001.mp4  You want to be working with and who you want t...   \n",
       "5999  hfUH9Am-Izs.000.mp4  No, but, it's really hard to explain. It reall...   \n",
       "\n",
       "      extraversion  neuroticism  agreeableness  interview  openness  \\\n",
       "0         0.523364     0.552083       0.626374   0.504673  0.488889   \n",
       "1         0.345794     0.375000       0.472527   0.457944  0.366667   \n",
       "2         0.252336     0.291667       0.406593   0.373832  0.511111   \n",
       "3         0.457944     0.489583       0.505495   0.457944  0.377778   \n",
       "4         0.607477     0.489583       0.406593   0.570093  0.622222   \n",
       "...            ...          ...            ...        ...       ...   \n",
       "5995      0.523364     0.479167       0.626374   0.588785  0.544444   \n",
       "5996      0.728972     0.760417       0.582418   0.616822  0.822222   \n",
       "5997      0.700935     0.770833       0.747253   0.691589  0.788889   \n",
       "5998      0.317757     0.531250       0.582418   0.616822  0.588889   \n",
       "5999      0.401869     0.500000       0.461538   0.429907  0.588889   \n",
       "\n",
       "      conscientiousness                                  text_preprocessed  \n",
       "0              0.601942  hes cutting turn around see end result im glad...  \n",
       "1              0.582524  responsibility house organ given needed tell g...  \n",
       "2              0.485437  actually got quite sets black pens year bought...  \n",
       "3              0.398058  ate lot id like lot foods remember favorite ma...  \n",
       "4              0.621359  ill ask guys leave question comments hopefully...  \n",
       "...                 ...                                                ...  \n",
       "5995           0.621359  got see lot got experience lot yeah didnt know...  \n",
       "5996           0.524272  really really love job love people work feel f...  \n",
       "5997           0.699029  ninetofive said last qa ninetofive per se prob...  \n",
       "5998           0.679612  want working want help bring anyone could get ...  \n",
       "5999           0.543689  really hard explain really somebody asked feel...  \n",
       "\n",
       "[6000 rows x 9 columns]"
      ]
     },
     "execution_count": 87,
     "metadata": {},
     "output_type": "execute_result"
    }
   ],
   "source": [
    "data"
   ]
  },
  {
   "cell_type": "code",
   "execution_count": 4,
   "id": "8f34de47",
   "metadata": {},
   "outputs": [
    {
     "name": "stdout",
     "output_type": "stream",
     "text": [
      "--2024-11-09 11:02:15--  https://lodmedia.hb.bizmrg.com/case_files/1179238/train_dataset_vprod_encr_train.zip\n",
      "Resolving lodmedia.hb.bizmrg.com (lodmedia.hb.bizmrg.com)... 95.163.53.117\n",
      "Connecting to lodmedia.hb.bizmrg.com (lodmedia.hb.bizmrg.com)|95.163.53.117|:443... connected.\n",
      "HTTP request sent, awaiting response... 200 OK\n",
      "Length: 23525252079 (22G) [application/zip]\n",
      "Saving to: ‘train_dataset_vprod_encr_train.zip’\n",
      "\n",
      "train_dataset_vprod   2%[                    ] 568.27M  3.97MB/s    eta 97m 45s^C\n"
     ]
    }
   ],
   "source": [
    "!wget https://lodmedia.hb.bizmrg.com/case_files/1179238/train_dataset_vprod_encr_train.zip"
   ]
  },
  {
   "cell_type": "code",
   "execution_count": 3,
   "id": "73f989c1",
   "metadata": {},
   "outputs": [],
   "source": [
    "!rm train_dataset_vprod_encr_train.zip"
   ]
  },
  {
   "cell_type": "code",
   "execution_count": null,
   "id": "4dd07d57",
   "metadata": {},
   "outputs": [
    {
     "ename": "",
     "evalue": "",
     "output_type": "error",
     "traceback": [
      "\u001b[1;31mНе удалось подключиться к удаленному серверу Jupyter \"http://176.109.111.117:8889/\". Убедитесь, что сервер работает и доступен. (Не удалось подключиться к удаленному серверу Jupyter \"http://176.109.111.117:8889/\". Убедитесь, что сервер работает и доступен. (request to http://176.109.111.117:8889/api/kernels?1731150638374 failed, reason: connect ECONNREFUSED 176.109.111.117:8889).)."
     ]
    }
   ],
   "source": [
    "!ls"
   ]
  },
  {
   "cell_type": "code",
   "execution_count": null,
   "id": "250893ef",
   "metadata": {},
   "outputs": [],
   "source": []
  }
 ],
 "metadata": {
  "kernelspec": {
   "display_name": "Python 3 (ipykernel)",
   "language": "python",
   "name": "python3"
  }
 },
 "nbformat": 4,
 "nbformat_minor": 5
}
