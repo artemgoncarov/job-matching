{
 "cells": [
  {
   "cell_type": "code",
   "execution_count": 1,
   "id": "b71b5482-d816-4fe2-b0f9-5d32cbad7a02",
   "metadata": {},
   "outputs": [
    {
     "name": "stdout",
     "output_type": "stream",
     "text": [
      "INFO: Pandarallel will run on 4 workers.\n",
      "INFO: Pandarallel will use Memory file system to transfer data between the main process and workers.\n",
      "MoviePy - Writing audio in /home/user1/environments/guivans_folder/train/folder_for_inference/zEyRyTnIw5I.005.wav\n"
     ]
    },
    {
     "name": "stderr",
     "output_type": "stream",
     "text": [
      "                                                                                             "
     ]
    },
    {
     "name": "stdout",
     "output_type": "stream",
     "text": [
      "MoviePy - Done.\n",
      "Converted zEyRyTnIw5I.005.mp4 to /home/user1/environments/guivans_folder/train/folder_for_inference/zEyRyTnIw5I.005.wav in 0.19 seconds\n"
     ]
    },
    {
     "name": "stderr",
     "output_type": "stream",
     "text": [
      "\r"
     ]
    },
    {
     "data": {
      "application/vnd.jupyter.widget-view+json": {
       "model_id": "d05656a47adb4a46b5881b59bdf091b8",
       "version_major": 2,
       "version_minor": 0
      },
      "text/plain": [
       "VBox(children=(HBox(children=(IntProgress(value=0, description='0.00%', max=1), Label(value='0 / 1'))),))"
      ]
     },
     "metadata": {},
     "output_type": "display_data"
    },
    {
     "data": {
      "application/vnd.jupyter.widget-view+json": {
       "model_id": "02e3bdc91394471d8ddebd3a5269d070",
       "version_major": 2,
       "version_minor": 0
      },
      "text/plain": [
       "VBox(children=(HBox(children=(IntProgress(value=0, description='0.00%', max=1), Label(value='0 / 1'))),))"
      ]
     },
     "metadata": {},
     "output_type": "display_data"
    },
    {
     "data": {
      "application/vnd.jupyter.widget-view+json": {
       "model_id": "5bbfebf526f548738f3c9a6047928ff5",
       "version_major": 2,
       "version_minor": 0
      },
      "text/plain": [
       "VBox(children=(HBox(children=(IntProgress(value=0, description='0.00%', max=1), Label(value='0 / 1'))),))"
      ]
     },
     "metadata": {},
     "output_type": "display_data"
    },
    {
     "name": "stdout",
     "output_type": "stream",
     "text": [
      "Predictions: {'conscientiousness': array([0.53728834]), 'extraversion': array([0.4628132]), 'neuroticism': array([0.52330943]), 'openness': array([0.5582964]), 'agreeableness': array([0.55652277])}\n"
     ]
    }
   ],
   "source": [
    "import os\n",
    "import time\n",
    "import pandas as pd\n",
    "import librosa\n",
    "import numpy as np\n",
    "from moviepy.editor import VideoFileClip\n",
    "from catboost import CatBoostRegressor\n",
    "from pandarallel import pandarallel\n",
    "\n",
    "\n",
    "pandarallel.initialize(progress_bar=True)\n",
    "\n",
    "def process_video_for_prediction(VIDEO_FILE_PATH, AUDIO_DATA_DESTINATION):\n",
    "    def convert_video_to_wav(video_path, destination_folder):\n",
    "        os.makedirs(destination_folder, exist_ok=True)\n",
    "        \n",
    "        filename = os.path.basename(video_path)\n",
    "        audio_output_path = os.path.join(destination_folder, f\"{os.path.splitext(filename)[0]}.wav\")\n",
    "        \n",
    "        try:\n",
    "            start_time = time.time()\n",
    "\n",
    "            videoclip = VideoFileClip(video_path)\n",
    "            audio = videoclip.audio\n",
    "\n",
    "            audio.write_audiofile(audio_output_path, codec='pcm_s16le')\n",
    "\n",
    "            audio.close()\n",
    "            videoclip.close()\n",
    "            \n",
    "            end_time = time.time()\n",
    "            duration = end_time - start_time\n",
    "            \n",
    "            print(f\"Converted {filename} to {audio_output_path} in {duration:.2f} seconds\")\n",
    "            return audio_output_path\n",
    "        except Exception as e:\n",
    "            print(f\"Error processing {filename}: {e}\")\n",
    "            return None\n",
    "\n",
    "    def extract_spectral_centroid_mean(audio_path):\n",
    "        y, sr = librosa.load(audio_path, sr=None)\n",
    "        spectral_centroid = librosa.feature.spectral_centroid(y=y, sr=sr)\n",
    "        spectral_centroid_mean = np.mean(spectral_centroid)\n",
    "        return spectral_centroid_mean\n",
    "\n",
    "    def extract_spectral_bandwidth_mean(audio_path):\n",
    "        y, sr = librosa.load(audio_path, sr=None)\n",
    "        spectral_bandwidth = librosa.feature.spectral_bandwidth(y=y, sr=sr)\n",
    "        spectral_bandwidth_mean = np.mean(spectral_bandwidth)\n",
    "        return spectral_bandwidth_mean\n",
    "\n",
    "    def extract_zero_crossing_rate_mean(audio_path):\n",
    "        y, sr = librosa.load(audio_path, sr=None)\n",
    "        zero_crossings = librosa.feature.zero_crossing_rate(y)\n",
    "        zero_crossing_rate_mean = np.mean(zero_crossings)\n",
    "        return zero_crossing_rate_mean\n",
    "        \n",
    "    wav_file_path = convert_video_to_wav(VIDEO_FILE_PATH, AUDIO_DATA_DESTINATION)\n",
    "\n",
    "    if not wav_file_path:\n",
    "        print(\"Conversion failed.\")\n",
    "        return None\n",
    "    df = pd.DataFrame(data={\"audio_path\": [wav_file_path]})\n",
    "\n",
    "    df[\"spectral_centroid_mean\"] = df[\"audio_path\"].parallel_apply(extract_spectral_centroid_mean)\n",
    "    df[\"spectral_bandwidth\"] = df[\"audio_path\"].parallel_apply(extract_spectral_bandwidth_mean)\n",
    "    df[\"zero_crossing_rate\"] = df[\"audio_path\"].parallel_apply(extract_zero_crossing_rate_mean)\n",
    "\n",
    "    data = df[['spectral_centroid_mean', 'spectral_bandwidth', 'zero_crossing_rate']]\n",
    "\n",
    "    model_conscientiousness = CatBoostRegressor()\n",
    "    model_extraversion = CatBoostRegressor()\n",
    "    model_neuroticism = CatBoostRegressor()\n",
    "    model_openness = CatBoostRegressor()\n",
    "    model_agreeableness = CatBoostRegressor()\n",
    "\n",
    "    model_conscientiousness.load_model(\"conscientiousness_best_model.cbm\")\n",
    "    model_extraversion.load_model(\"extraversion_best_model.cbm\")\n",
    "    model_neuroticism.load_model(\"neuroticism_best_model.cbm\")\n",
    "    model_openness.load_model(\"openness_best_model.cbm\")\n",
    "    model_agreeableness.load_model(\"agreeableness_best_model.cbm\")\n",
    "\n",
    "    predict_model_agreeableness = model_agreeableness.predict(data)\n",
    "    predict_model_extraversion = model_extraversion.predict(data)\n",
    "    predict_model_openness = model_openness.predict(data)\n",
    "    predict_model_conscientiousness = model_conscientiousness.predict(data)\n",
    "    predict_model_neuroticism = model_neuroticism.predict(data)\n",
    "\n",
    "    answers = {\n",
    "        \"conscientiousness\": predict_model_conscientiousness,\n",
    "        \"extraversion\": predict_model_extraversion,\n",
    "        \"neuroticism\": predict_model_neuroticism,\n",
    "        \"openness\": predict_model_openness,\n",
    "        \"agreeableness\": predict_model_agreeableness\n",
    "    }\n",
    "\n",
    "    return answers\n",
    "\n",
    "VIDEO_FILE_PATH = \"/home/user1/environments/guivans_folder/train/data_for_audio_process/zEyRyTnIw5I.005.mp4\"\n",
    "AUDIO_DATA_DESTINATION = '/home/user1/environments/guivans_folder/train/folder_for_inference'\n",
    "\n",
    "answers = process_video_for_prediction(VIDEO_FILE_PATH, AUDIO_DATA_DESTINATION)\n",
    "\n",
    "if answers:\n",
    "    print(\"Predictions:\", answers)\n"
   ]
  },
  {
   "cell_type": "code",
   "execution_count": null,
   "id": "e3c3e729-d2ea-4d5f-bf0d-73b7c2c39775",
   "metadata": {},
   "outputs": [],
   "source": []
  }
 ],
 "metadata": {
  "kernelspec": {
   "display_name": "Python 3 (ipykernel)",
   "language": "python",
   "name": "python3"
  },
  "language_info": {
   "codemirror_mode": {
    "name": "ipython",
    "version": 3
   },
   "file_extension": ".py",
   "mimetype": "text/x-python",
   "name": "python",
   "nbconvert_exporter": "python",
   "pygments_lexer": "ipython3",
   "version": "3.10.12"
  }
 },
 "nbformat": 4,
 "nbformat_minor": 5
}
